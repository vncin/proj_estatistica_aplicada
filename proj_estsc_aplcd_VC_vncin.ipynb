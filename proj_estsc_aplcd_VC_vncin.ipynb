{
 "cells": [
  {
   "cell_type": "markdown",
   "id": "46545376",
   "metadata": {},
   "source": [
    "#  **<font size=6><center>PROJETO DE ESTATÍSTICA APLICADA</center></font>** "
   ]
  },
  {
   "cell_type": "markdown",
   "id": "9276cf46",
   "metadata": {},
   "source": [
    "### <font color=green size=5>Roteiro do projeto </font>\n",
    "<br>\n",
    "1. Escolher uma base de dados que você quiser trabalhar ou tambem pode usar os seguintes links para escolher uma base de dados pública (tem dados de diferentes areas) <a href ='https://ces.ibge.gov.br/base-de-dados/links-base-de-dados.html'> IBGE </a> ou <a href='https://opendatasus.saude.gov.br/dataset'> DATA SUS</a>.  <br>\n",
    "2. Explicar o contexto dos dados: Origem, historia dos dados, o site que os disponibiliza, etc… <br>\n",
    "3. Estabelecer as perguntas ou hipóteses que você quer responder e os modelos estatísticos que pretende usar para dar respostas aos questionamentos <br>\n",
    "4. Fazer uma exploração dos dados: Tendência central, medidas de dispersão e visualizações que apoiem o processo de descrição dos dados. <br>\n",
    "5. Fazer inferência estatística usando testes de hipóteses paramétricos ou não paramétricos dependendo se amostra provém de uma distribuição conhecida (Use um teste de aderência para saber se uma amostra provém de uma distribuição específica).<br>\n",
    "6. Fazer um modelo de regressão entre duas variáveis com correlação linear significativa (lembre-se de validar o modelo com analise de residuos, R^2 , etc..). <br>\n",
    "7. Explicar as conclusões do trabalho.<br> "
   ]
  },
  {
   "cell_type": "markdown",
   "id": "2e5e0324",
   "metadata": {},
   "source": [
    "### <font color=green size=4>Grupo: </font>\n",
    "<br>\n",
    "<strong> \n",
    "    <ul>\n",
    "        <li>Daniel Macedo</li>\n",
    "        <li>Tasso Oliveira</li>\n",
    "        <li>Vinicius Dantas</li>\n",
    "     </ul>\n",
    "</strong>\n",
    "<br>\n",
    "<strong> Professor: Adiel Filho <br> Monitor: Miguel Ortiz </strong>"
   ]
  },
  {
   "cell_type": "markdown",
   "id": "90fbf9de",
   "metadata": {},
   "source": [
    "<font color=green size=4> <b>Fonte de dados:  </b></font> <a href='https://www.kaggle.com/mathchi/diabetes-data-set'> Kaggle - Diabetes Dataset </a> <br>\n",
    "<br>\n",
    "<font color=green size=3> <b>Origem / História dos dados</b> </font> <br>\n",
    "<br>\n",
    "Este conjunto de dados é originalmente do Instituto Nacional de Diabetes e Doenças Digestivas e Renais. Várias restrições foram colocadas na seleção dessas instâncias de um banco de dados maior. Em particular, todos os pacientes aqui são mulheres com pelo menos 21 anos de herança indígena Pima.\n",
    "<br>\n",
    "<ul>\n",
    "<li>Número de instâncias: 768</li>\n",
    "<li>Número de atributos: 8 mais classe</li>\n",
    "<li>Para cada atributo: (todos com valor numérico)</li>\n",
    "</ul>\n",
    "<ol>    \n",
    "<li>Número de vezes que engravidou</li>\n",
    "<li>Concentração de glicose plasmática a 2 horas em um teste oral de tolerância à glicose</li>\n",
    "<li>Pressão arterial diastólica (mm Hg)</li>\n",
    "<li>Espessura da dobra cutânea do tríceps (mm)</li>\n",
    "<li>Insulina sérica de 2 horas (mu U / ml)</li>\n",
    "<li>Índice de massa corporal (peso em kg / (altura em m) ^ 2)</li>\n",
    "<li>Função de pedigree de diabetes</li>\n",
    "<li>Anos de idade</li>\n",
    "<li>Variável de classe (0 ou 1)</li>\n",
    "</ol>\n",
    "Valores de atributo ausentes: Sim <br>\n",
    "Distribuição de classe: (valor de classe 1 é interpretado como \"teste positivo para\n",
    "diabetes\") "
   ]
  },
  {
   "cell_type": "markdown",
   "id": "341d896b",
   "metadata": {},
   "source": [
    "<font color=green size=3> <b>Hipóteses</b> </font> <br> \n",
    "<ul>\n",
    "    <li>Quais variáveis mais se correlacionam com a variável alvo (Outcome)?</li>\n",
    "</ul>"
   ]
  },
  {
   "cell_type": "markdown",
   "id": "73a333c2",
   "metadata": {},
   "source": [
    "#### Configurações"
   ]
  },
  {
   "cell_type": "code",
   "execution_count": 2,
   "id": "0b1e1e34",
   "metadata": {},
   "outputs": [
    {
     "data": {
      "text/plain": [
       "R version 4.1.1 (2021-08-10)\n",
       "Platform: x86_64-w64-mingw32/x64 (64-bit)\n",
       "Running under: Windows 10 x64 (build 19044)\n",
       "\n",
       "Matrix products: default\n",
       "\n",
       "locale:\n",
       "[1] LC_COLLATE=Portuguese_Brazil.1252  LC_CTYPE=Portuguese_Brazil.1252   \n",
       "[3] LC_MONETARY=Portuguese_Brazil.1252 LC_NUMERIC=C                      \n",
       "[5] LC_TIME=Portuguese_Brazil.1252    \n",
       "\n",
       "attached base packages:\n",
       "[1] stats     graphics  grDevices utils     datasets  methods   base     \n",
       "\n",
       "loaded via a namespace (and not attached):\n",
       " [1] fansi_0.5.0     digest_0.6.29   utf8_1.2.2      crayon_1.4.2   \n",
       " [5] IRdisplay_1.0   repr_1.1.3      lifecycle_1.0.1 jsonlite_1.7.2 \n",
       " [9] evaluate_0.14   pillar_1.6.4    rlang_0.4.12    uuid_1.0-3     \n",
       "[13] vctrs_0.3.8     ellipsis_0.3.2  IRkernel_1.2    tools_4.1.1    \n",
       "[17] fastmap_1.1.0   compiler_4.1.1  base64enc_0.1-3 pbdZMQ_0.3-6   \n",
       "[21] htmltools_0.5.2"
      ]
     },
     "metadata": {},
     "output_type": "display_data"
    }
   ],
   "source": [
    "sessionInfo()"
   ]
  },
  {
   "cell_type": "code",
   "execution_count": 3,
   "id": "b073ec07",
   "metadata": {},
   "outputs": [
    {
     "name": "stderr",
     "output_type": "stream",
     "text": [
      "Carregando pacotes exigidos: pacman\n",
      "\n",
      "Warning message:\n",
      "\"package 'pacman' was built under R version 4.1.2\"\n"
     ]
    }
   ],
   "source": [
    "if(!require(pacman)) install.packages(\"pacman\")\n",
    "library(pacman)\n",
    "pacman::p_load(dplyr, ggplot2, car, rstatix, tidyverse, nortest, lmtest, ggpubr)\n",
    "#install.packages(\"nortest\")\n",
    "#install.packages(\"rstatix\")\n",
    "#install.packages(\"tidyverse\")"
   ]
  },
  {
   "cell_type": "code",
   "execution_count": 4,
   "id": "c0323f8d",
   "metadata": {},
   "outputs": [],
   "source": [
    "formatos <-     theme(\n",
    "        plot.title = element_text(size = 14, hjust = 0.5),\n",
    "        axis.title.y = element_text(size = 12, vjust = +0.2),\n",
    "        axis.title.x = element_text(size = 12, vjust = -0.2),\n",
    "        axis.text.y = element_text(size = 10),\n",
    "        axis.text.x = element_text(size = 10)\n",
    "    )"
   ]
  },
  {
   "cell_type": "code",
   "execution_count": 5,
   "id": "fbd81e18",
   "metadata": {},
   "outputs": [],
   "source": [
    "# configuração para o tamnanho dos plots\n",
    "options(repr.plot.width = 8, repr.plot.height = 5) \n",
    "\n",
    "#retirando notação cientifica\n",
    "options(scipen=999) "
   ]
  },
  {
   "cell_type": "markdown",
   "id": "ac96ade5",
   "metadata": {},
   "source": [
    "----"
   ]
  },
  {
   "cell_type": "markdown",
   "id": "94e307a7",
   "metadata": {},
   "source": [
    "<font color=green size=5> <b>1 - Primeiros passos</b> </font> <br> "
   ]
  },
  {
   "cell_type": "markdown",
   "id": "ddcd6870",
   "metadata": {},
   "source": [
    "#### Importando o dataset"
   ]
  },
  {
   "cell_type": "code",
   "execution_count": 6,
   "id": "1d5b94ea",
   "metadata": {},
   "outputs": [],
   "source": [
    "dados <- read.csv(\"diabetes.csv\")"
   ]
  },
  {
   "cell_type": "markdown",
   "id": "7f9a2024",
   "metadata": {},
   "source": [
    "#### Visualizando algumas sobre os dados"
   ]
  },
  {
   "cell_type": "code",
   "execution_count": 7,
   "id": "5a6f17c1",
   "metadata": {},
   "outputs": [
    {
     "data": {
      "text/html": [
       "<table class=\"dataframe\">\n",
       "<caption>A data.frame: 10 × 9</caption>\n",
       "<thead>\n",
       "\t<tr><th></th><th scope=col>Pregnancies</th><th scope=col>Glucose</th><th scope=col>BloodPressure</th><th scope=col>SkinThickness</th><th scope=col>Insulin</th><th scope=col>BMI</th><th scope=col>DiabetesPedigreeFunction</th><th scope=col>Age</th><th scope=col>Outcome</th></tr>\n",
       "\t<tr><th></th><th scope=col>&lt;int&gt;</th><th scope=col>&lt;int&gt;</th><th scope=col>&lt;int&gt;</th><th scope=col>&lt;int&gt;</th><th scope=col>&lt;int&gt;</th><th scope=col>&lt;dbl&gt;</th><th scope=col>&lt;dbl&gt;</th><th scope=col>&lt;int&gt;</th><th scope=col>&lt;int&gt;</th></tr>\n",
       "</thead>\n",
       "<tbody>\n",
       "\t<tr><th scope=row>1</th><td> 6</td><td>148</td><td>72</td><td>35</td><td>  0</td><td>33.6</td><td>0.627</td><td>50</td><td>1</td></tr>\n",
       "\t<tr><th scope=row>2</th><td> 1</td><td> 85</td><td>66</td><td>29</td><td>  0</td><td>26.6</td><td>0.351</td><td>31</td><td>0</td></tr>\n",
       "\t<tr><th scope=row>3</th><td> 8</td><td>183</td><td>64</td><td> 0</td><td>  0</td><td>23.3</td><td>0.672</td><td>32</td><td>1</td></tr>\n",
       "\t<tr><th scope=row>4</th><td> 1</td><td> 89</td><td>66</td><td>23</td><td> 94</td><td>28.1</td><td>0.167</td><td>21</td><td>0</td></tr>\n",
       "\t<tr><th scope=row>5</th><td> 0</td><td>137</td><td>40</td><td>35</td><td>168</td><td>43.1</td><td>2.288</td><td>33</td><td>1</td></tr>\n",
       "\t<tr><th scope=row>6</th><td> 5</td><td>116</td><td>74</td><td> 0</td><td>  0</td><td>25.6</td><td>0.201</td><td>30</td><td>0</td></tr>\n",
       "\t<tr><th scope=row>7</th><td> 3</td><td> 78</td><td>50</td><td>32</td><td> 88</td><td>31.0</td><td>0.248</td><td>26</td><td>1</td></tr>\n",
       "\t<tr><th scope=row>8</th><td>10</td><td>115</td><td> 0</td><td> 0</td><td>  0</td><td>35.3</td><td>0.134</td><td>29</td><td>0</td></tr>\n",
       "\t<tr><th scope=row>9</th><td> 2</td><td>197</td><td>70</td><td>45</td><td>543</td><td>30.5</td><td>0.158</td><td>53</td><td>1</td></tr>\n",
       "\t<tr><th scope=row>10</th><td> 8</td><td>125</td><td>96</td><td> 0</td><td>  0</td><td> 0.0</td><td>0.232</td><td>54</td><td>1</td></tr>\n",
       "</tbody>\n",
       "</table>\n"
      ],
      "text/latex": [
       "A data.frame: 10 × 9\n",
       "\\begin{tabular}{r|lllllllll}\n",
       "  & Pregnancies & Glucose & BloodPressure & SkinThickness & Insulin & BMI & DiabetesPedigreeFunction & Age & Outcome\\\\\n",
       "  & <int> & <int> & <int> & <int> & <int> & <dbl> & <dbl> & <int> & <int>\\\\\n",
       "\\hline\n",
       "\t1 &  6 & 148 & 72 & 35 &   0 & 33.6 & 0.627 & 50 & 1\\\\\n",
       "\t2 &  1 &  85 & 66 & 29 &   0 & 26.6 & 0.351 & 31 & 0\\\\\n",
       "\t3 &  8 & 183 & 64 &  0 &   0 & 23.3 & 0.672 & 32 & 1\\\\\n",
       "\t4 &  1 &  89 & 66 & 23 &  94 & 28.1 & 0.167 & 21 & 0\\\\\n",
       "\t5 &  0 & 137 & 40 & 35 & 168 & 43.1 & 2.288 & 33 & 1\\\\\n",
       "\t6 &  5 & 116 & 74 &  0 &   0 & 25.6 & 0.201 & 30 & 0\\\\\n",
       "\t7 &  3 &  78 & 50 & 32 &  88 & 31.0 & 0.248 & 26 & 1\\\\\n",
       "\t8 & 10 & 115 &  0 &  0 &   0 & 35.3 & 0.134 & 29 & 0\\\\\n",
       "\t9 &  2 & 197 & 70 & 45 & 543 & 30.5 & 0.158 & 53 & 1\\\\\n",
       "\t10 &  8 & 125 & 96 &  0 &   0 &  0.0 & 0.232 & 54 & 1\\\\\n",
       "\\end{tabular}\n"
      ],
      "text/markdown": [
       "\n",
       "A data.frame: 10 × 9\n",
       "\n",
       "| <!--/--> | Pregnancies &lt;int&gt; | Glucose &lt;int&gt; | BloodPressure &lt;int&gt; | SkinThickness &lt;int&gt; | Insulin &lt;int&gt; | BMI &lt;dbl&gt; | DiabetesPedigreeFunction &lt;dbl&gt; | Age &lt;int&gt; | Outcome &lt;int&gt; |\n",
       "|---|---|---|---|---|---|---|---|---|---|\n",
       "| 1 |  6 | 148 | 72 | 35 |   0 | 33.6 | 0.627 | 50 | 1 |\n",
       "| 2 |  1 |  85 | 66 | 29 |   0 | 26.6 | 0.351 | 31 | 0 |\n",
       "| 3 |  8 | 183 | 64 |  0 |   0 | 23.3 | 0.672 | 32 | 1 |\n",
       "| 4 |  1 |  89 | 66 | 23 |  94 | 28.1 | 0.167 | 21 | 0 |\n",
       "| 5 |  0 | 137 | 40 | 35 | 168 | 43.1 | 2.288 | 33 | 1 |\n",
       "| 6 |  5 | 116 | 74 |  0 |   0 | 25.6 | 0.201 | 30 | 0 |\n",
       "| 7 |  3 |  78 | 50 | 32 |  88 | 31.0 | 0.248 | 26 | 1 |\n",
       "| 8 | 10 | 115 |  0 |  0 |   0 | 35.3 | 0.134 | 29 | 0 |\n",
       "| 9 |  2 | 197 | 70 | 45 | 543 | 30.5 | 0.158 | 53 | 1 |\n",
       "| 10 |  8 | 125 | 96 |  0 |   0 |  0.0 | 0.232 | 54 | 1 |\n",
       "\n"
      ],
      "text/plain": [
       "   Pregnancies Glucose BloodPressure SkinThickness Insulin BMI \n",
       "1   6          148     72            35              0     33.6\n",
       "2   1           85     66            29              0     26.6\n",
       "3   8          183     64             0              0     23.3\n",
       "4   1           89     66            23             94     28.1\n",
       "5   0          137     40            35            168     43.1\n",
       "6   5          116     74             0              0     25.6\n",
       "7   3           78     50            32             88     31.0\n",
       "8  10          115      0             0              0     35.3\n",
       "9   2          197     70            45            543     30.5\n",
       "10  8          125     96             0              0      0.0\n",
       "   DiabetesPedigreeFunction Age Outcome\n",
       "1  0.627                    50  1      \n",
       "2  0.351                    31  0      \n",
       "3  0.672                    32  1      \n",
       "4  0.167                    21  0      \n",
       "5  2.288                    33  1      \n",
       "6  0.201                    30  0      \n",
       "7  0.248                    26  1      \n",
       "8  0.134                    29  0      \n",
       "9  0.158                    53  1      \n",
       "10 0.232                    54  1      "
      ]
     },
     "metadata": {},
     "output_type": "display_data"
    },
    {
     "data": {
      "text/html": [
       "'Quantidade de linhas: 768'"
      ],
      "text/latex": [
       "'Quantidade de linhas: 768'"
      ],
      "text/markdown": [
       "'Quantidade de linhas: 768'"
      ],
      "text/plain": [
       "[1] \"Quantidade de linhas: 768\""
      ]
     },
     "metadata": {},
     "output_type": "display_data"
    }
   ],
   "source": [
    "head(dados, 10)\n",
    "sprintf(\"Quantidade de linhas: %d\", nrow(dados))"
   ]
  },
  {
   "cell_type": "markdown",
   "id": "696a98d9",
   "metadata": {},
   "source": [
    "<font color=green size=4> <b>1.1 - Tendência Central das Variáveis </b> </font> "
   ]
  },
  {
   "cell_type": "code",
   "execution_count": 8,
   "id": "3a72d441",
   "metadata": {},
   "outputs": [
    {
     "data": {
      "text/plain": [
       "  Pregnancies        Glucose      BloodPressure    SkinThickness  \n",
       " Min.   : 0.000   Min.   :  0.0   Min.   :  0.00   Min.   : 0.00  \n",
       " 1st Qu.: 1.000   1st Qu.: 99.0   1st Qu.: 62.00   1st Qu.: 0.00  \n",
       " Median : 3.000   Median :117.0   Median : 72.00   Median :23.00  \n",
       " Mean   : 3.845   Mean   :120.9   Mean   : 69.11   Mean   :20.54  \n",
       " 3rd Qu.: 6.000   3rd Qu.:140.2   3rd Qu.: 80.00   3rd Qu.:32.00  \n",
       " Max.   :17.000   Max.   :199.0   Max.   :122.00   Max.   :99.00  \n",
       "    Insulin           BMI        DiabetesPedigreeFunction      Age       \n",
       " Min.   :  0.0   Min.   : 0.00   Min.   :0.0780           Min.   :21.00  \n",
       " 1st Qu.:  0.0   1st Qu.:27.30   1st Qu.:0.2437           1st Qu.:24.00  \n",
       " Median : 30.5   Median :32.00   Median :0.3725           Median :29.00  \n",
       " Mean   : 79.8   Mean   :31.99   Mean   :0.4719           Mean   :33.24  \n",
       " 3rd Qu.:127.2   3rd Qu.:36.60   3rd Qu.:0.6262           3rd Qu.:41.00  \n",
       " Max.   :846.0   Max.   :67.10   Max.   :2.4200           Max.   :81.00  \n",
       "    Outcome     \n",
       " Min.   :0.000  \n",
       " 1st Qu.:0.000  \n",
       " Median :0.000  \n",
       " Mean   :0.349  \n",
       " 3rd Qu.:1.000  \n",
       " Max.   :1.000  "
      ]
     },
     "metadata": {},
     "output_type": "display_data"
    }
   ],
   "source": [
    "summary(dados)"
   ]
  },
  {
   "cell_type": "markdown",
   "id": "cce9cbcc",
   "metadata": {},
   "source": [
    "#### Média, Mediana e Moda"
   ]
  },
  {
   "cell_type": "code",
   "execution_count": 9,
   "id": "603b5deb",
   "metadata": {},
   "outputs": [],
   "source": [
    "Moda <- function(x){\n",
    "  freq <- table(x)\n",
    "  return(names(freq)[freq == max(freq)])\n",
    "}"
   ]
  },
  {
   "cell_type": "code",
   "execution_count": 10,
   "id": "09c33027",
   "metadata": {},
   "outputs": [
    {
     "data": {
      "text/html": [
       "'Media, Mediana e Moda da variavel Pregnancies: 3.85 || 3.00 || 1'"
      ],
      "text/latex": [
       "'Media, Mediana e Moda da variavel Pregnancies: 3.85 \\textbar{}\\textbar{} 3.00 \\textbar{}\\textbar{} 1'"
      ],
      "text/markdown": [
       "'Media, Mediana e Moda da variavel Pregnancies: 3.85 || 3.00 || 1'"
      ],
      "text/plain": [
       "[1] \"Media, Mediana e Moda da variavel Pregnancies: 3.85 || 3.00 || 1\""
      ]
     },
     "metadata": {},
     "output_type": "display_data"
    }
   ],
   "source": [
    "sprintf(\"Media, Mediana e Moda da variavel Pregnancies: %.2f || %.2f || %s\", mean(dados$Pregnancies), median(dados$Pregnancies), Moda(dados$Pregnancies))"
   ]
  },
  {
   "cell_type": "code",
   "execution_count": 11,
   "id": "3269cb91",
   "metadata": {},
   "outputs": [
    {
     "data": {
      "text/html": [
       "'Media, Mediana e Moda da variavel SkinThickness: 20.54 || 23.00 || 0'"
      ],
      "text/latex": [
       "'Media, Mediana e Moda da variavel SkinThickness: 20.54 \\textbar{}\\textbar{} 23.00 \\textbar{}\\textbar{} 0'"
      ],
      "text/markdown": [
       "'Media, Mediana e Moda da variavel SkinThickness: 20.54 || 23.00 || 0'"
      ],
      "text/plain": [
       "[1] \"Media, Mediana e Moda da variavel SkinThickness: 20.54 || 23.00 || 0\""
      ]
     },
     "metadata": {},
     "output_type": "display_data"
    }
   ],
   "source": [
    "sprintf(\"Media, Mediana e Moda da variavel SkinThickness: %.2f || %.2f || %s\", mean(dados$SkinThickness), median(dados$SkinThickness), Moda(dados$SkinThickness))"
   ]
  },
  {
   "cell_type": "code",
   "execution_count": 12,
   "id": "70661368",
   "metadata": {},
   "outputs": [
    {
     "data": {
      "text/html": [
       "'Media, Mediana e Moda da variavel BMI: 31.99 || 32.00 || 32'"
      ],
      "text/latex": [
       "'Media, Mediana e Moda da variavel BMI: 31.99 \\textbar{}\\textbar{} 32.00 \\textbar{}\\textbar{} 32'"
      ],
      "text/markdown": [
       "'Media, Mediana e Moda da variavel BMI: 31.99 || 32.00 || 32'"
      ],
      "text/plain": [
       "[1] \"Media, Mediana e Moda da variavel BMI: 31.99 || 32.00 || 32\""
      ]
     },
     "metadata": {},
     "output_type": "display_data"
    }
   ],
   "source": [
    "sprintf(\"Media, Mediana e Moda da variavel BMI: %.2f || %.2f || %s\", mean(dados$BMI), median(dados$BMI), Moda(dados$BMI))"
   ]
  },
  {
   "cell_type": "markdown",
   "id": "8eb77d2b",
   "metadata": {},
   "source": [
    "<font color=green size=4> <b>1.2 - Medidas de Dispersão </b> </font> "
   ]
  },
  {
   "cell_type": "markdown",
   "id": "34819572",
   "metadata": {},
   "source": [
    "#### Amplitude"
   ]
  },
  {
   "cell_type": "code",
   "execution_count": 13,
   "id": "71e63b44",
   "metadata": {},
   "outputs": [
    {
     "data": {
      "text/html": [
       "17"
      ],
      "text/latex": [
       "17"
      ],
      "text/markdown": [
       "17"
      ],
      "text/plain": [
       "[1] 17"
      ]
     },
     "metadata": {},
     "output_type": "display_data"
    }
   ],
   "source": [
    "max(dados$Pregnancies) - min(dados$Pregnancies)"
   ]
  },
  {
   "cell_type": "markdown",
   "id": "1a0c7c0a",
   "metadata": {},
   "source": [
    "#### Desvio Médio Absoluto"
   ]
  },
  {
   "cell_type": "code",
   "execution_count": 14,
   "id": "5b2d1d39",
   "metadata": {},
   "outputs": [
    {
     "data": {
      "text/html": [
       "2.77162000868056"
      ],
      "text/latex": [
       "2.77162000868056"
      ],
      "text/markdown": [
       "2.77162000868056"
      ],
      "text/plain": [
       "[1] 2.77162"
      ]
     },
     "metadata": {},
     "output_type": "display_data"
    }
   ],
   "source": [
    "media_preg <- mean(dados$Pregnancies)\n",
    "desv <- dados$Pregnancies - media_preg\n",
    "desv_absoluto <- abs(desv)\n",
    "mean(desv_absoluto)"
   ]
  },
  {
   "cell_type": "markdown",
   "id": "03cea4d9",
   "metadata": {},
   "source": [
    "#### Variância "
   ]
  },
  {
   "cell_type": "code",
   "execution_count": 15,
   "id": "0205e84e",
   "metadata": {},
   "outputs": [
    {
     "data": {
      "text/html": [
       "11.3540563206215"
      ],
      "text/latex": [
       "11.3540563206215"
      ],
      "text/markdown": [
       "11.3540563206215"
      ],
      "text/plain": [
       "[1] 11.35406"
      ]
     },
     "metadata": {},
     "output_type": "display_data"
    },
    {
     "data": {
      "text/html": [
       "254.473245328118"
      ],
      "text/latex": [
       "254.473245328118"
      ],
      "text/markdown": [
       "254.473245328118"
      ],
      "text/plain": [
       "[1] 254.4732"
      ]
     },
     "metadata": {},
     "output_type": "display_data"
    },
    {
     "data": {
      "text/html": [
       "62.1599839573827"
      ],
      "text/latex": [
       "62.1599839573827"
      ],
      "text/markdown": [
       "62.1599839573827"
      ],
      "text/plain": [
       "[1] 62.15998"
      ]
     },
     "metadata": {},
     "output_type": "display_data"
    }
   ],
   "source": [
    "var(dados$Pregnancies)\n",
    "var(dados$SkinThickness)\n",
    "var(dados$BMI)"
   ]
  },
  {
   "cell_type": "markdown",
   "id": "c78a4dd4",
   "metadata": {},
   "source": [
    "#### Desvio Padrão"
   ]
  },
  {
   "cell_type": "code",
   "execution_count": 16,
   "id": "28bfda5b",
   "metadata": {},
   "outputs": [
    {
     "data": {
      "text/html": [
       "3.36957806269887"
      ],
      "text/latex": [
       "3.36957806269887"
      ],
      "text/markdown": [
       "3.36957806269887"
      ],
      "text/plain": [
       "[1] 3.369578"
      ]
     },
     "metadata": {},
     "output_type": "display_data"
    },
    {
     "data": {
      "text/html": [
       "15.9522175677276"
      ],
      "text/latex": [
       "15.9522175677276"
      ],
      "text/markdown": [
       "15.9522175677276"
      ],
      "text/plain": [
       "[1] 15.95222"
      ]
     },
     "metadata": {},
     "output_type": "display_data"
    },
    {
     "data": {
      "text/html": [
       "7.88416032037545"
      ],
      "text/latex": [
       "7.88416032037545"
      ],
      "text/markdown": [
       "7.88416032037545"
      ],
      "text/plain": [
       "[1] 7.88416"
      ]
     },
     "metadata": {},
     "output_type": "display_data"
    }
   ],
   "source": [
    "sd(dados$Pregnancies)\n",
    "sd(dados$SkinThickness)\n",
    "sd(dados$BMI)"
   ]
  },
  {
   "cell_type": "markdown",
   "id": "2fb5c4fe",
   "metadata": {},
   "source": [
    "----"
   ]
  },
  {
   "cell_type": "markdown",
   "id": "ccbabae6",
   "metadata": {},
   "source": [
    "<font color=green size=5> <b>2 - Visualizando os dados </b> </font> "
   ]
  },
  {
   "cell_type": "code",
   "execution_count": 17,
   "id": "7caaef7f",
   "metadata": {},
   "outputs": [
    {
     "data": {
      "image/png": "[encoded data removed]",
      "text/plain": [
       "plot without title"
      ]
     },
     "metadata": {
      "image/png": {
       "height": 300,
       "width": 480
      }
     },
     "output_type": "display_data"
    },
    {
     "data": {
      "image/png": "[encoded data removed]",
      "text/plain": [
       "plot without title"
      ]
     },
     "metadata": {
      "image/png": {
       "height": 300,
       "width": 480
      }
     },
     "output_type": "display_data"
    },
    {
     "data": {
      "image/png": "[encoded data removed]",
      "text/plain": [
       "plot without title"
      ]
     },
     "metadata": {
      "image/png": {
       "height": 300,
       "width": 480
      }
     },
     "output_type": "display_data"
    }
   ],
   "source": [
    "ggplot(dados, aes(x = Pregnancies)) + \n",
    "    geom_histogram(binwidth = 1, color = \"black\", alpha = 0.9) + \n",
    "    ylab(\"Frequência\") + \n",
    "    xlab(\"Numero de gravidez\") + \n",
    "    ggtitle('Histograma do numero de gravidez') +\n",
    "    formatos\n",
    "\n",
    "ggplot(dados, aes(x = BMI)) + \n",
    "    geom_histogram(binwidth = 4, color = \"black\", alpha = 0.9) + \n",
    "    ylab(\"Frequência\") + \n",
    "    xlab(\"IMC\") + \n",
    "    ggtitle('Histograma do IMC') +\n",
    "    formatos\n",
    "\n",
    "ggplot(dados, aes(x = SkinThickness)) + \n",
    "    geom_histogram(binwidth = 4, color = \"black\", alpha = 0.9) + \n",
    "    ylab(\"Frequência\") + \n",
    "    xlab(\"Espessura da Pele\") + \n",
    "    ggtitle('Histograma do Espessura da Pele') +\n",
    "    formatos\n",
    "\n"
   ]
  },
  {
   "cell_type": "markdown",
   "id": "202ce56d",
   "metadata": {},
   "source": [
    "<font size=2> Observando os histogramas das variáveis: Numero de Gravidez (Pregnancies), BMI (IMC) e SkinTickness (Espessura da Pele (nesse caso)) podemos perceber que essa ultima variável apresenta muitos valores iguais a 0. Além disso, a partir da observação das estatistica descritivas há valores 0 para as variaveis Insulina e Pressão Sanguínea. As linhas com esses valores serão <b>removidas</b>, mas não para Pregnancies, pois na coleta dos dados a pacientes pode não ter engravidado nenhuma vez.</font>"
   ]
  },
  {
   "cell_type": "markdown",
   "id": "9fe39b26",
   "metadata": {},
   "source": [
    "----"
   ]
  },
  {
   "cell_type": "markdown",
   "id": "cbf7cbe9",
   "metadata": {},
   "source": [
    "<font color=red size=4> <b>Trabalhando com um novo conjunto </b> </font> "
   ]
  },
  {
   "cell_type": "code",
   "execution_count": 18,
   "id": "866132b8",
   "metadata": {},
   "outputs": [],
   "source": [
    "dados_limpos <- dados[(dados$SkinThickness > 0 & dados$BMI > 0 & dados$Glucose > 0 & dados$BloodPressure > 0 & dados$Insulin),]"
   ]
  },
  {
   "cell_type": "code",
   "execution_count": 19,
   "id": "a78c8bf6",
   "metadata": {},
   "outputs": [
    {
     "data": {
      "text/html": [
       "392"
      ],
      "text/latex": [
       "392"
      ],
      "text/markdown": [
       "392"
      ],
      "text/plain": [
       "[1] 392"
      ]
     },
     "metadata": {},
     "output_type": "display_data"
    }
   ],
   "source": [
    "nrow(dados_limpos)"
   ]
  },
  {
   "cell_type": "code",
   "execution_count": 20,
   "id": "a263702d",
   "metadata": {},
   "outputs": [
    {
     "data": {
      "image/png": "[encoded data removed]",
      "text/plain": [
       "plot without title"
      ]
     },
     "metadata": {
      "image/png": {
       "height": 300,
       "width": 480
      }
     },
     "output_type": "display_data"
    },
    {
     "data": {
      "image/png": "[encoded data removed]",
      "text/plain": [
       "plot without title"
      ]
     },
     "metadata": {
      "image/png": {
       "height": 300,
       "width": 480
      }
     },
     "output_type": "display_data"
    },
    {
     "data": {
      "image/png": "[encoded data removed]",
      "text/plain": [
       "plot without title"
      ]
     },
     "metadata": {
      "image/png": {
       "height": 300,
       "width": 480
      }
     },
     "output_type": "display_data"
    }
   ],
   "source": [
    "ggplot(dados_limpos, aes(x = Pregnancies)) + \n",
    "    geom_histogram(binwidth = 1, color = \"black\", alpha = 0.9) + \n",
    "    ylab(\"Frequência\") + \n",
    "    xlab(\"Numero de gravidez\") + \n",
    "    ggtitle('Histograma do numero de gravidez') +\n",
    "    formatos\n",
    "\n",
    "ggplot(dados_limpos, aes(x = BMI)) + \n",
    "    geom_histogram(binwidth = 4, color = \"black\", alpha = 0.9) + \n",
    "    ylab(\"Frequência\") + \n",
    "    xlab(\"IMC\") + \n",
    "    ggtitle('Histograma do IMC') +\n",
    "    formatos\n",
    "\n",
    "ggplot(dados_limpos, aes(x = SkinThickness)) + \n",
    "    geom_histogram(binwidth = 4, color = \"black\", alpha = 0.9) + \n",
    "    ylab(\"Frequência\") + \n",
    "    xlab(\"Espessura da Pele\") + \n",
    "    ggtitle('Histograma do Espessura da Pele') +\n",
    "    formatos"
   ]
  },
  {
   "cell_type": "markdown",
   "id": "2ff25a0d",
   "metadata": {},
   "source": [
    "Vamos observar possíveis Outliers em algumas das variáveis do conjunto."
   ]
  },
  {
   "cell_type": "code",
   "execution_count": 21,
   "id": "fbb8e69f",
   "metadata": {},
   "outputs": [
    {
     "data": {
      "image/png": "[encoded data removed]",
      "text/plain": [
       "plot without title"
      ]
     },
     "metadata": {
      "image/png": {
       "height": 300,
       "width": 480
      }
     },
     "output_type": "display_data"
    }
   ],
   "source": [
    "ggplot(data = dados_limpos, aes(x = , y = Pregnancies)) + \n",
    "    stat_boxplot(geom ='errorbar', width = 0.4) + \n",
    "    geom_boxplot(fill = '#3274A1', outlier.colour=\"red\", outlier.shape=8,\n",
    "                outlier.size=4) + \n",
    "    coord_flip() +\n",
    "    ylab(\"Vezes que engravidou\") + \n",
    "    xlab(\"\") + \n",
    "    ggtitle('Box-plot Pregnancies') +\n",
    "    formatos"
   ]
  },
  {
   "cell_type": "code",
   "execution_count": 22,
   "id": "bb631618",
   "metadata": {},
   "outputs": [
    {
     "data": {
      "text/html": [
       "<table class=\"dataframe\">\n",
       "<caption>A data.frame: 11 × 9</caption>\n",
       "<thead>\n",
       "\t<tr><th></th><th scope=col>Pregnancies</th><th scope=col>Glucose</th><th scope=col>BloodPressure</th><th scope=col>SkinThickness</th><th scope=col>Insulin</th><th scope=col>BMI</th><th scope=col>DiabetesPedigreeFunction</th><th scope=col>Age</th><th scope=col>Outcome</th></tr>\n",
       "\t<tr><th></th><th scope=col>&lt;int&gt;</th><th scope=col>&lt;int&gt;</th><th scope=col>&lt;int&gt;</th><th scope=col>&lt;int&gt;</th><th scope=col>&lt;int&gt;</th><th scope=col>&lt;dbl&gt;</th><th scope=col>&lt;dbl&gt;</th><th scope=col>&lt;int&gt;</th><th scope=col>&lt;int&gt;</th></tr>\n",
       "</thead>\n",
       "<tbody>\n",
       "\t<tr><th scope=row>29</th><td>13</td><td>145</td><td>82</td><td>19</td><td>110</td><td>22.2</td><td>0.245</td><td>57</td><td>0</td></tr>\n",
       "\t<tr><th scope=row>89</th><td>15</td><td>136</td><td>70</td><td>32</td><td>110</td><td>37.1</td><td>0.153</td><td>43</td><td>1</td></tr>\n",
       "\t<tr><th scope=row>160</th><td>17</td><td>163</td><td>72</td><td>41</td><td>114</td><td>40.9</td><td>0.817</td><td>47</td><td>1</td></tr>\n",
       "\t<tr><th scope=row>216</th><td>12</td><td>151</td><td>70</td><td>40</td><td>271</td><td>41.8</td><td>0.742</td><td>38</td><td>1</td></tr>\n",
       "\t<tr><th scope=row>255</th><td>12</td><td> 92</td><td>62</td><td> 7</td><td>258</td><td>27.6</td><td>0.926</td><td>44</td><td>1</td></tr>\n",
       "\t<tr><th scope=row>299</th><td>14</td><td>100</td><td>78</td><td>25</td><td>184</td><td>36.6</td><td>0.412</td><td>46</td><td>1</td></tr>\n",
       "\t<tr><th scope=row>324</th><td>13</td><td>152</td><td>90</td><td>33</td><td> 29</td><td>26.8</td><td>0.731</td><td>43</td><td>1</td></tr>\n",
       "\t<tr><th scope=row>359</th><td>12</td><td> 88</td><td>74</td><td>40</td><td> 54</td><td>35.3</td><td>0.378</td><td>48</td><td>0</td></tr>\n",
       "\t<tr><th scope=row>376</th><td>12</td><td>140</td><td>82</td><td>43</td><td>325</td><td>39.2</td><td>0.528</td><td>58</td><td>1</td></tr>\n",
       "\t<tr><th scope=row>745</th><td>13</td><td>153</td><td>88</td><td>37</td><td>140</td><td>40.6</td><td>1.174</td><td>39</td><td>0</td></tr>\n",
       "\t<tr><th scope=row>746</th><td>12</td><td>100</td><td>84</td><td>33</td><td>105</td><td>30.0</td><td>0.488</td><td>46</td><td>0</td></tr>\n",
       "</tbody>\n",
       "</table>\n"
      ],
      "text/latex": [
       "A data.frame: 11 × 9\n",
       "\\begin{tabular}{r|lllllllll}\n",
       "  & Pregnancies & Glucose & BloodPressure & SkinThickness & Insulin & BMI & DiabetesPedigreeFunction & Age & Outcome\\\\\n",
       "  & <int> & <int> & <int> & <int> & <int> & <dbl> & <dbl> & <int> & <int>\\\\\n",
       "\\hline\n",
       "\t29 & 13 & 145 & 82 & 19 & 110 & 22.2 & 0.245 & 57 & 0\\\\\n",
       "\t89 & 15 & 136 & 70 & 32 & 110 & 37.1 & 0.153 & 43 & 1\\\\\n",
       "\t160 & 17 & 163 & 72 & 41 & 114 & 40.9 & 0.817 & 47 & 1\\\\\n",
       "\t216 & 12 & 151 & 70 & 40 & 271 & 41.8 & 0.742 & 38 & 1\\\\\n",
       "\t255 & 12 &  92 & 62 &  7 & 258 & 27.6 & 0.926 & 44 & 1\\\\\n",
       "\t299 & 14 & 100 & 78 & 25 & 184 & 36.6 & 0.412 & 46 & 1\\\\\n",
       "\t324 & 13 & 152 & 90 & 33 &  29 & 26.8 & 0.731 & 43 & 1\\\\\n",
       "\t359 & 12 &  88 & 74 & 40 &  54 & 35.3 & 0.378 & 48 & 0\\\\\n",
       "\t376 & 12 & 140 & 82 & 43 & 325 & 39.2 & 0.528 & 58 & 1\\\\\n",
       "\t745 & 13 & 153 & 88 & 37 & 140 & 40.6 & 1.174 & 39 & 0\\\\\n",
       "\t746 & 12 & 100 & 84 & 33 & 105 & 30.0 & 0.488 & 46 & 0\\\\\n",
       "\\end{tabular}\n"
      ],
      "text/markdown": [
       "\n",
       "A data.frame: 11 × 9\n",
       "\n",
       "| <!--/--> | Pregnancies &lt;int&gt; | Glucose &lt;int&gt; | BloodPressure &lt;int&gt; | SkinThickness &lt;int&gt; | Insulin &lt;int&gt; | BMI &lt;dbl&gt; | DiabetesPedigreeFunction &lt;dbl&gt; | Age &lt;int&gt; | Outcome &lt;int&gt; |\n",
       "|---|---|---|---|---|---|---|---|---|---|\n",
       "| 29 | 13 | 145 | 82 | 19 | 110 | 22.2 | 0.245 | 57 | 0 |\n",
       "| 89 | 15 | 136 | 70 | 32 | 110 | 37.1 | 0.153 | 43 | 1 |\n",
       "| 160 | 17 | 163 | 72 | 41 | 114 | 40.9 | 0.817 | 47 | 1 |\n",
       "| 216 | 12 | 151 | 70 | 40 | 271 | 41.8 | 0.742 | 38 | 1 |\n",
       "| 255 | 12 |  92 | 62 |  7 | 258 | 27.6 | 0.926 | 44 | 1 |\n",
       "| 299 | 14 | 100 | 78 | 25 | 184 | 36.6 | 0.412 | 46 | 1 |\n",
       "| 324 | 13 | 152 | 90 | 33 |  29 | 26.8 | 0.731 | 43 | 1 |\n",
       "| 359 | 12 |  88 | 74 | 40 |  54 | 35.3 | 0.378 | 48 | 0 |\n",
       "| 376 | 12 | 140 | 82 | 43 | 325 | 39.2 | 0.528 | 58 | 1 |\n",
       "| 745 | 13 | 153 | 88 | 37 | 140 | 40.6 | 1.174 | 39 | 0 |\n",
       "| 746 | 12 | 100 | 84 | 33 | 105 | 30.0 | 0.488 | 46 | 0 |\n",
       "\n"
      ],
      "text/plain": [
       "    Pregnancies Glucose BloodPressure SkinThickness Insulin BMI \n",
       "29  13          145     82            19            110     22.2\n",
       "89  15          136     70            32            110     37.1\n",
       "160 17          163     72            41            114     40.9\n",
       "216 12          151     70            40            271     41.8\n",
       "255 12           92     62             7            258     27.6\n",
       "299 14          100     78            25            184     36.6\n",
       "324 13          152     90            33             29     26.8\n",
       "359 12           88     74            40             54     35.3\n",
       "376 12          140     82            43            325     39.2\n",
       "745 13          153     88            37            140     40.6\n",
       "746 12          100     84            33            105     30.0\n",
       "    DiabetesPedigreeFunction Age Outcome\n",
       "29  0.245                    57  0      \n",
       "89  0.153                    43  1      \n",
       "160 0.817                    47  1      \n",
       "216 0.742                    38  1      \n",
       "255 0.926                    44  1      \n",
       "299 0.412                    46  1      \n",
       "324 0.731                    43  1      \n",
       "359 0.378                    48  0      \n",
       "376 0.528                    58  1      \n",
       "745 1.174                    39  0      \n",
       "746 0.488                    46  0      "
      ]
     },
     "metadata": {},
     "output_type": "display_data"
    }
   ],
   "source": [
    "dados_limpos[dados_limpos$Pregnancies > 11, ]"
   ]
  },
  {
   "cell_type": "code",
   "execution_count": 23,
   "id": "5cf73acf",
   "metadata": {},
   "outputs": [
    {
     "data": {
      "image/png": "[encoded data removed]",
      "text/plain": [
       "plot without title"
      ]
     },
     "metadata": {
      "image/png": {
       "height": 300,
       "width": 480
      }
     },
     "output_type": "display_data"
    }
   ],
   "source": [
    "ggplot(data = dados_limpos, aes(x = , y = SkinThickness)) + \n",
    "    stat_boxplot(geom ='errorbar', width = 0.4) + \n",
    "    geom_boxplot(fill = '#3274A1', outlier.colour=\"red\", outlier.shape=8,\n",
    "                outlier.size=4) + \n",
    "    coord_flip() +\n",
    "    ylab(\"Espessura da pele\") + \n",
    "    xlab(\"\") + \n",
    "    ggtitle('Box-plot Espessura da Pele') +\n",
    "    formatos"
   ]
  },
  {
   "cell_type": "code",
   "execution_count": 24,
   "id": "4db397c7",
   "metadata": {},
   "outputs": [
    {
     "data": {
      "text/html": [
       "<table class=\"dataframe\">\n",
       "<caption>A data.frame: 2 × 9</caption>\n",
       "<thead>\n",
       "\t<tr><th></th><th scope=col>Pregnancies</th><th scope=col>Glucose</th><th scope=col>BloodPressure</th><th scope=col>SkinThickness</th><th scope=col>Insulin</th><th scope=col>BMI</th><th scope=col>DiabetesPedigreeFunction</th><th scope=col>Age</th><th scope=col>Outcome</th></tr>\n",
       "\t<tr><th></th><th scope=col>&lt;int&gt;</th><th scope=col>&lt;int&gt;</th><th scope=col>&lt;int&gt;</th><th scope=col>&lt;int&gt;</th><th scope=col>&lt;int&gt;</th><th scope=col>&lt;dbl&gt;</th><th scope=col>&lt;dbl&gt;</th><th scope=col>&lt;int&gt;</th><th scope=col>&lt;int&gt;</th></tr>\n",
       "</thead>\n",
       "<tbody>\n",
       "\t<tr><th scope=row>58</th><td>0</td><td>100</td><td>88</td><td>60</td><td>110</td><td>46.8</td><td>0.962</td><td>31</td><td>0</td></tr>\n",
       "\t<tr><th scope=row>446</th><td>0</td><td>180</td><td>78</td><td>63</td><td> 14</td><td>59.4</td><td>2.420</td><td>25</td><td>1</td></tr>\n",
       "</tbody>\n",
       "</table>\n"
      ],
      "text/latex": [
       "A data.frame: 2 × 9\n",
       "\\begin{tabular}{r|lllllllll}\n",
       "  & Pregnancies & Glucose & BloodPressure & SkinThickness & Insulin & BMI & DiabetesPedigreeFunction & Age & Outcome\\\\\n",
       "  & <int> & <int> & <int> & <int> & <int> & <dbl> & <dbl> & <int> & <int>\\\\\n",
       "\\hline\n",
       "\t58 & 0 & 100 & 88 & 60 & 110 & 46.8 & 0.962 & 31 & 0\\\\\n",
       "\t446 & 0 & 180 & 78 & 63 &  14 & 59.4 & 2.420 & 25 & 1\\\\\n",
       "\\end{tabular}\n"
      ],
      "text/markdown": [
       "\n",
       "A data.frame: 2 × 9\n",
       "\n",
       "| <!--/--> | Pregnancies &lt;int&gt; | Glucose &lt;int&gt; | BloodPressure &lt;int&gt; | SkinThickness &lt;int&gt; | Insulin &lt;int&gt; | BMI &lt;dbl&gt; | DiabetesPedigreeFunction &lt;dbl&gt; | Age &lt;int&gt; | Outcome &lt;int&gt; |\n",
       "|---|---|---|---|---|---|---|---|---|---|\n",
       "| 58 | 0 | 100 | 88 | 60 | 110 | 46.8 | 0.962 | 31 | 0 |\n",
       "| 446 | 0 | 180 | 78 | 63 |  14 | 59.4 | 2.420 | 25 | 1 |\n",
       "\n"
      ],
      "text/plain": [
       "    Pregnancies Glucose BloodPressure SkinThickness Insulin BMI \n",
       "58  0           100     88            60            110     46.8\n",
       "446 0           180     78            63             14     59.4\n",
       "    DiabetesPedigreeFunction Age Outcome\n",
       "58  0.962                    31  0      \n",
       "446 2.420                    25  1      "
      ]
     },
     "metadata": {},
     "output_type": "display_data"
    }
   ],
   "source": [
    "dados_limpos[dados_limpos$SkinThickness >= 60, ]"
   ]
  },
  {
   "cell_type": "code",
   "execution_count": 25,
   "id": "bee0bf92",
   "metadata": {},
   "outputs": [
    {
     "data": {
      "image/png": "[encoded data removed]",
      "text/plain": [
       "plot without title"
      ]
     },
     "metadata": {
      "image/png": {
       "height": 300,
       "width": 480
      }
     },
     "output_type": "display_data"
    }
   ],
   "source": [
    "ggplot(data = dados_limpos, aes(x = , y = BMI)) + \n",
    "    stat_boxplot(geom ='errorbar', width = 0.4) + \n",
    "    geom_boxplot(fill = '#3274A1', outlier.colour=\"red\", outlier.shape=8,\n",
    "                outlier.size=4) + \n",
    "    coord_flip() +\n",
    "    ylab(\"IMC\") + \n",
    "    xlab(\"\") + \n",
    "    ggtitle('Box-plot do IMC') +\n",
    "    formatos"
   ]
  },
  {
   "cell_type": "code",
   "execution_count": 26,
   "id": "253fa061",
   "metadata": {},
   "outputs": [
    {
     "data": {
      "text/html": [
       "<table class=\"dataframe\">\n",
       "<caption>A data.frame: 6 × 9</caption>\n",
       "<thead>\n",
       "\t<tr><th></th><th scope=col>Pregnancies</th><th scope=col>Glucose</th><th scope=col>BloodPressure</th><th scope=col>SkinThickness</th><th scope=col>Insulin</th><th scope=col>BMI</th><th scope=col>DiabetesPedigreeFunction</th><th scope=col>Age</th><th scope=col>Outcome</th></tr>\n",
       "\t<tr><th></th><th scope=col>&lt;int&gt;</th><th scope=col>&lt;int&gt;</th><th scope=col>&lt;int&gt;</th><th scope=col>&lt;int&gt;</th><th scope=col>&lt;int&gt;</th><th scope=col>&lt;dbl&gt;</th><th scope=col>&lt;dbl&gt;</th><th scope=col>&lt;int&gt;</th><th scope=col>&lt;int&gt;</th></tr>\n",
       "</thead>\n",
       "<tbody>\n",
       "\t<tr><th scope=row>121</th><td>0</td><td>162</td><td> 76</td><td>56</td><td>100</td><td>53.2</td><td>0.759</td><td>25</td><td>1</td></tr>\n",
       "\t<tr><th scope=row>126</th><td>1</td><td> 88</td><td> 30</td><td>42</td><td> 99</td><td>55.0</td><td>0.496</td><td>26</td><td>1</td></tr>\n",
       "\t<tr><th scope=row>178</th><td>0</td><td>129</td><td>110</td><td>46</td><td>130</td><td>67.1</td><td>0.319</td><td>26</td><td>1</td></tr>\n",
       "\t<tr><th scope=row>248</th><td>0</td><td>165</td><td> 90</td><td>33</td><td>680</td><td>52.3</td><td>0.427</td><td>23</td><td>0</td></tr>\n",
       "\t<tr><th scope=row>446</th><td>0</td><td>180</td><td> 78</td><td>63</td><td> 14</td><td>59.4</td><td>2.420</td><td>25</td><td>1</td></tr>\n",
       "\t<tr><th scope=row>674</th><td>3</td><td>123</td><td>100</td><td>35</td><td>240</td><td>57.3</td><td>0.880</td><td>22</td><td>0</td></tr>\n",
       "</tbody>\n",
       "</table>\n"
      ],
      "text/latex": [
       "A data.frame: 6 × 9\n",
       "\\begin{tabular}{r|lllllllll}\n",
       "  & Pregnancies & Glucose & BloodPressure & SkinThickness & Insulin & BMI & DiabetesPedigreeFunction & Age & Outcome\\\\\n",
       "  & <int> & <int> & <int> & <int> & <int> & <dbl> & <dbl> & <int> & <int>\\\\\n",
       "\\hline\n",
       "\t121 & 0 & 162 &  76 & 56 & 100 & 53.2 & 0.759 & 25 & 1\\\\\n",
       "\t126 & 1 &  88 &  30 & 42 &  99 & 55.0 & 0.496 & 26 & 1\\\\\n",
       "\t178 & 0 & 129 & 110 & 46 & 130 & 67.1 & 0.319 & 26 & 1\\\\\n",
       "\t248 & 0 & 165 &  90 & 33 & 680 & 52.3 & 0.427 & 23 & 0\\\\\n",
       "\t446 & 0 & 180 &  78 & 63 &  14 & 59.4 & 2.420 & 25 & 1\\\\\n",
       "\t674 & 3 & 123 & 100 & 35 & 240 & 57.3 & 0.880 & 22 & 0\\\\\n",
       "\\end{tabular}\n"
      ],
      "text/markdown": [
       "\n",
       "A data.frame: 6 × 9\n",
       "\n",
       "| <!--/--> | Pregnancies &lt;int&gt; | Glucose &lt;int&gt; | BloodPressure &lt;int&gt; | SkinThickness &lt;int&gt; | Insulin &lt;int&gt; | BMI &lt;dbl&gt; | DiabetesPedigreeFunction &lt;dbl&gt; | Age &lt;int&gt; | Outcome &lt;int&gt; |\n",
       "|---|---|---|---|---|---|---|---|---|---|\n",
       "| 121 | 0 | 162 |  76 | 56 | 100 | 53.2 | 0.759 | 25 | 1 |\n",
       "| 126 | 1 |  88 |  30 | 42 |  99 | 55.0 | 0.496 | 26 | 1 |\n",
       "| 178 | 0 | 129 | 110 | 46 | 130 | 67.1 | 0.319 | 26 | 1 |\n",
       "| 248 | 0 | 165 |  90 | 33 | 680 | 52.3 | 0.427 | 23 | 0 |\n",
       "| 446 | 0 | 180 |  78 | 63 |  14 | 59.4 | 2.420 | 25 | 1 |\n",
       "| 674 | 3 | 123 | 100 | 35 | 240 | 57.3 | 0.880 | 22 | 0 |\n",
       "\n"
      ],
      "text/plain": [
       "    Pregnancies Glucose BloodPressure SkinThickness Insulin BMI \n",
       "121 0           162      76           56            100     53.2\n",
       "126 1            88      30           42             99     55.0\n",
       "178 0           129     110           46            130     67.1\n",
       "248 0           165      90           33            680     52.3\n",
       "446 0           180      78           63             14     59.4\n",
       "674 3           123     100           35            240     57.3\n",
       "    DiabetesPedigreeFunction Age Outcome\n",
       "121 0.759                    25  1      \n",
       "126 0.496                    26  1      \n",
       "178 0.319                    26  1      \n",
       "248 0.427                    23  0      \n",
       "446 2.420                    25  1      \n",
       "674 0.880                    22  0      "
      ]
     },
     "metadata": {},
     "output_type": "display_data"
    }
   ],
   "source": [
    "dados_limpos[dados_limpos$BMI > 51, ]"
   ]
  },
  {
   "cell_type": "markdown",
   "id": "8f9ee0d2",
   "metadata": {},
   "source": [
    "Ainda que seja possível identificar valores considerados Outliers, nesses casos não seria interessante remover esses dados. Pois é possível que esses valores se apresentem numa população, como IMC acima de 35 para pessoas Super Obsesas e mulheres que apresentem numeros de gravidez entre 10 e 17, por exemplo. "
   ]
  },
  {
   "cell_type": "markdown",
   "id": "611c3b00",
   "metadata": {},
   "source": [
    "<font color=green size=4> <b> 2.1 - Distribuição de Frequências </b> </font>"
   ]
  },
  {
   "cell_type": "markdown",
   "id": "e01c6e46",
   "metadata": {},
   "source": [
    "Definindo o numero de classes <br>\n",
    "Classes personalizadas <br>"
   ]
  },
  {
   "cell_type": "code",
   "execution_count": 27,
   "id": "2507a299",
   "metadata": {},
   "outputs": [
    {
     "data": {
      "text/html": [
       "18.2"
      ],
      "text/latex": [
       "18.2"
      ],
      "text/markdown": [
       "18.2"
      ],
      "text/plain": [
       "[1] 18.2"
      ]
     },
     "metadata": {},
     "output_type": "display_data"
    },
    {
     "data": {
      "text/html": [
       "67.1"
      ],
      "text/latex": [
       "67.1"
      ],
      "text/markdown": [
       "67.1"
      ],
      "text/plain": [
       "[1] 67.1"
      ]
     },
     "metadata": {},
     "output_type": "display_data"
    }
   ],
   "source": [
    "min(dados_limpos$BMI)\n",
    "max(dados_limpos$BMI)"
   ]
  },
  {
   "cell_type": "code",
   "execution_count": 28,
   "id": "dbb66e16",
   "metadata": {},
   "outputs": [],
   "source": [
    "classes <- c(0, 18.5, 25, 30, 70)"
   ]
  },
  {
   "cell_type": "code",
   "execution_count": 29,
   "id": "1c310e50",
   "metadata": {},
   "outputs": [],
   "source": [
    "labels <- c('Abaixo do Peso','Normal','Sobrepeso','Obesidade')"
   ]
  },
  {
   "cell_type": "code",
   "execution_count": 30,
   "id": "eb011809",
   "metadata": {},
   "outputs": [
    {
     "data": {
      "text/plain": [
       "\n",
       "Abaixo do Peso         Normal      Sobrepeso      Obesidade \n",
       "             1             45             87            259 "
      ]
     },
     "metadata": {},
     "output_type": "display_data"
    }
   ],
   "source": [
    "frequencia <- table(\n",
    "  cut(\n",
    "  x = dados_limpos$BMI,\n",
    "  breaks = classes,\n",
    "  labels = labels,\n",
    "  include.lowest = TRUE\n",
    "  )\n",
    ")\n",
    "frequencia"
   ]
  },
  {
   "cell_type": "code",
   "execution_count": 31,
   "id": "4a4613d1",
   "metadata": {},
   "outputs": [
    {
     "data": {
      "text/plain": [
       "\n",
       "Abaixo do Peso         Normal      Sobrepeso      Obesidade \n",
       "      0.255102      11.479592      22.193878      66.071429 "
      ]
     },
     "metadata": {},
     "output_type": "display_data"
    }
   ],
   "source": [
    "percentual <- prop.table(frequencia) * 100\n",
    "percentual"
   ]
  },
  {
   "cell_type": "code",
   "execution_count": 32,
   "id": "4e53b82c",
   "metadata": {},
   "outputs": [
    {
     "data": {
      "text/html": [
       "<table class=\"dataframe\">\n",
       "<caption>A matrix: 4 × 2 of type dbl</caption>\n",
       "<thead>\n",
       "\t<tr><th></th><th scope=col>Frequência</th><th scope=col>Porcentagem (%)</th></tr>\n",
       "</thead>\n",
       "<tbody>\n",
       "\t<tr><th scope=row>Abaixo do Peso</th><td>  1</td><td> 0.255102</td></tr>\n",
       "\t<tr><th scope=row>Normal</th><td> 45</td><td>11.479592</td></tr>\n",
       "\t<tr><th scope=row>Sobrepeso</th><td> 87</td><td>22.193878</td></tr>\n",
       "\t<tr><th scope=row>Obesidade</th><td>259</td><td>66.071429</td></tr>\n",
       "</tbody>\n",
       "</table>\n"
      ],
      "text/latex": [
       "A matrix: 4 × 2 of type dbl\n",
       "\\begin{tabular}{r|ll}\n",
       "  & Frequência & Porcentagem (\\%)\\\\\n",
       "\\hline\n",
       "\tAbaixo do Peso &   1 &  0.255102\\\\\n",
       "\tNormal &  45 & 11.479592\\\\\n",
       "\tSobrepeso &  87 & 22.193878\\\\\n",
       "\tObesidade & 259 & 66.071429\\\\\n",
       "\\end{tabular}\n"
      ],
      "text/markdown": [
       "\n",
       "A matrix: 4 × 2 of type dbl\n",
       "\n",
       "| <!--/--> | Frequência | Porcentagem (%) |\n",
       "|---|---|---|\n",
       "| Abaixo do Peso |   1 |  0.255102 |\n",
       "| Normal |  45 | 11.479592 |\n",
       "| Sobrepeso |  87 | 22.193878 |\n",
       "| Obesidade | 259 | 66.071429 |\n",
       "\n"
      ],
      "text/plain": [
       "               Frequência Porcentagem (%)\n",
       "Abaixo do Peso   1         0.255102      \n",
       "Normal          45        11.479592      \n",
       "Sobrepeso       87        22.193878      \n",
       "Obesidade      259        66.071429      "
      ]
     },
     "metadata": {},
     "output_type": "display_data"
    }
   ],
   "source": [
    "dist_freq_imc <- cbind('Frequência' = frequencia, 'Porcentagem (%)' = percentual)\n",
    "dist_freq_imc"
   ]
  },
  {
   "cell_type": "code",
   "execution_count": 33,
   "id": "0676a832",
   "metadata": {},
   "outputs": [
    {
     "data": {
      "text/html": [
       "<table class=\"dataframe\">\n",
       "<caption>A data.frame: 4 × 2</caption>\n",
       "<thead>\n",
       "\t<tr><th></th><th scope=col>Frequência</th><th scope=col>Porcentagem....</th></tr>\n",
       "\t<tr><th></th><th scope=col>&lt;dbl&gt;</th><th scope=col>&lt;dbl&gt;</th></tr>\n",
       "</thead>\n",
       "<tbody>\n",
       "\t<tr><th scope=row>Abaixo do Peso</th><td>  1</td><td> 0.255102</td></tr>\n",
       "\t<tr><th scope=row>Normal</th><td> 45</td><td>11.479592</td></tr>\n",
       "\t<tr><th scope=row>Sobrepeso</th><td> 87</td><td>22.193878</td></tr>\n",
       "\t<tr><th scope=row>Obesidade</th><td>259</td><td>66.071429</td></tr>\n",
       "</tbody>\n",
       "</table>\n"
      ],
      "text/latex": [
       "A data.frame: 4 × 2\n",
       "\\begin{tabular}{r|ll}\n",
       "  & Frequência & Porcentagem....\\\\\n",
       "  & <dbl> & <dbl>\\\\\n",
       "\\hline\n",
       "\tAbaixo do Peso &   1 &  0.255102\\\\\n",
       "\tNormal &  45 & 11.479592\\\\\n",
       "\tSobrepeso &  87 & 22.193878\\\\\n",
       "\tObesidade & 259 & 66.071429\\\\\n",
       "\\end{tabular}\n"
      ],
      "text/markdown": [
       "\n",
       "A data.frame: 4 × 2\n",
       "\n",
       "| <!--/--> | Frequência &lt;dbl&gt; | Porcentagem.... &lt;dbl&gt; |\n",
       "|---|---|---|\n",
       "| Abaixo do Peso |   1 |  0.255102 |\n",
       "| Normal |  45 | 11.479592 |\n",
       "| Sobrepeso |  87 | 22.193878 |\n",
       "| Obesidade | 259 | 66.071429 |\n",
       "\n"
      ],
      "text/plain": [
       "               Frequência Porcentagem....\n",
       "Abaixo do Peso   1         0.255102      \n",
       "Normal          45        11.479592      \n",
       "Sobrepeso       87        22.193878      \n",
       "Obesidade      259        66.071429      "
      ]
     },
     "metadata": {},
     "output_type": "display_data"
    }
   ],
   "source": [
    "bar_chart <- data.frame(dist_freq_imc)\n",
    "bar_chart"
   ]
  },
  {
   "cell_type": "code",
   "execution_count": 34,
   "id": "69f3d0eb",
   "metadata": {},
   "outputs": [
    {
     "name": "stderr",
     "output_type": "stream",
     "text": [
      "Warning message:\n",
      "\"Use of `bar_chart$Frequência` is discouraged. Use `Frequência` instead.\"\n"
     ]
    },
    {
     "data": {
      "image/png": "[encoded data removed]",
      "text/plain": [
       "plot without title"
      ]
     },
     "metadata": {
      "image/png": {
       "height": 300,
       "width": 480
      }
     },
     "output_type": "display_data"
    }
   ],
   "source": [
    "ggplot(bar_chart, aes(x = row.names(bar_chart), y = bar_chart$Frequência)) + \n",
    "    geom_bar(stat = \"identity\") + \n",
    "    ylab(\"Frequência\") + \n",
    "    xlab(\"Classes de BMI (IMC)\") + \n",
    "    ggtitle('Gráfico Classes de BMI (IMC)') +\n",
    "    formatos"
   ]
  },
  {
   "cell_type": "markdown",
   "id": "42f61718",
   "metadata": {},
   "source": [
    "<font color=green size=4> <b>2.2 - Plotando alguns gráficos de regressão para visualizar possivel relação entre as variáveis</b> </font>"
   ]
  },
  {
   "cell_type": "code",
   "execution_count": 35,
   "id": "aa2eb2f8",
   "metadata": {},
   "outputs": [
    {
     "name": "stderr",
     "output_type": "stream",
     "text": [
      "`geom_smooth()` using formula 'y ~ x'\n",
      "\n"
     ]
    },
    {
     "data": {
      "image/png": "[encoded data removed]",
      "text/plain": [
       "plot without title"
      ]
     },
     "metadata": {
      "image/png": {
       "height": 300,
       "width": 480
      }
     },
     "output_type": "display_data"
    }
   ],
   "source": [
    "ggplot(data = dados_limpos, aes(x = Pregnancies, y = SkinThickness))+\n",
    "  geom_point() + \n",
    "  geom_smooth(method = \"lm\")"
   ]
  },
  {
   "cell_type": "code",
   "execution_count": 36,
   "id": "2774ed02",
   "metadata": {},
   "outputs": [
    {
     "name": "stderr",
     "output_type": "stream",
     "text": [
      "`geom_smooth()` using formula 'y ~ x'\n",
      "\n"
     ]
    },
    {
     "data": {
      "image/png": "[encoded data removed]",
      "text/plain": [
       "plot without title"
      ]
     },
     "metadata": {
      "image/png": {
       "height": 300,
       "width": 480
      }
     },
     "output_type": "display_data"
    }
   ],
   "source": [
    "ggplot(data = dados_limpos, aes(x = Pregnancies, y = BMI))+\n",
    "  geom_point() + \n",
    "  geom_smooth(method = \"lm\")"
   ]
  },
  {
   "cell_type": "code",
   "execution_count": 37,
   "id": "b724bfeb",
   "metadata": {},
   "outputs": [
    {
     "name": "stderr",
     "output_type": "stream",
     "text": [
      "`geom_smooth()` using formula 'y ~ x'\n",
      "\n"
     ]
    },
    {
     "data": {
      "image/png": "[encoded data removed]",
      "text/plain": [
       "plot without title"
      ]
     },
     "metadata": {
      "image/png": {
       "height": 300,
       "width": 480
      }
     },
     "output_type": "display_data"
    }
   ],
   "source": [
    "ggplot(data = dados_limpos, aes(x = BMI, y = SkinThickness))+\n",
    "  geom_point() + \n",
    "  geom_smooth(method = \"lm\")"
   ]
  },
  {
   "cell_type": "code",
   "execution_count": 38,
   "id": "af15f743",
   "metadata": {},
   "outputs": [
    {
     "name": "stderr",
     "output_type": "stream",
     "text": [
      "`geom_smooth()` using formula 'y ~ x'\n",
      "\n"
     ]
    },
    {
     "data": {
      "image/png": "[encoded data removed]",
      "text/plain": [
       "plot without title"
      ]
     },
     "metadata": {
      "image/png": {
       "height": 300,
       "width": 480
      }
     },
     "output_type": "display_data"
    }
   ],
   "source": [
    "ggplot(data = dados_limpos, aes(x = Outcome, y = Pregnancies))+\n",
    "  geom_point() + \n",
    "  geom_smooth(method = \"lm\")"
   ]
  },
  {
   "cell_type": "markdown",
   "id": "2fb9df73",
   "metadata": {},
   "source": [
    "Observações"
   ]
  },
  {
   "cell_type": "markdown",
   "id": "bbf6b9ff",
   "metadata": {},
   "source": [
    "----"
   ]
  },
  {
   "cell_type": "markdown",
   "id": "425d6e51",
   "metadata": {},
   "source": [
    "<font color=green size=5> <b>3 - Normalidade dos dados </b> </font> "
   ]
  },
  {
   "cell_type": "markdown",
   "id": "29dfb449",
   "metadata": {},
   "source": [
    "Os histogramas plotados anteriormente, já nos mostra que os dados não apresentam uma distribuição normal. Mas vamos realizar alguns testes para verificar a distribuição das variáveis. "
   ]
  },
  {
   "cell_type": "markdown",
   "id": "4bbcc668",
   "metadata": {},
   "source": [
    "#### Teste Lilliefors"
   ]
  },
  {
   "cell_type": "code",
   "execution_count": 39,
   "id": "b1b2b796",
   "metadata": {},
   "outputs": [
    {
     "data": {
      "text/plain": [
       "\n",
       "\tLilliefors (Kolmogorov-Smirnov) normality test\n",
       "\n",
       "data:  dados_limpos$Pregnancies\n",
       "D = 0.20067, p-value < 0.00000000000000022\n"
      ]
     },
     "metadata": {},
     "output_type": "display_data"
    }
   ],
   "source": [
    "lillie.test(dados_limpos$Pregnancies)"
   ]
  },
  {
   "cell_type": "code",
   "execution_count": 40,
   "id": "d598a147",
   "metadata": {},
   "outputs": [
    {
     "data": {
      "text/plain": [
       "\n",
       "\tLilliefors (Kolmogorov-Smirnov) normality test\n",
       "\n",
       "data:  dados_limpos$BMI\n",
       "D = 0.039093, p-value = 0.1541\n"
      ]
     },
     "metadata": {},
     "output_type": "display_data"
    }
   ],
   "source": [
    "lillie.test(dados_limpos$BMI)"
   ]
  },
  {
   "cell_type": "code",
   "execution_count": 41,
   "id": "10bb9dd3",
   "metadata": {},
   "outputs": [
    {
     "data": {
      "text/plain": [
       "\n",
       "\tLilliefors (Kolmogorov-Smirnov) normality test\n",
       "\n",
       "data:  dados_limpos$SkinThickness\n",
       "D = 0.054596, p-value = 0.006985\n"
      ]
     },
     "metadata": {},
     "output_type": "display_data"
    }
   ],
   "source": [
    "lillie.test(dados_limpos$SkinThickness)"
   ]
  },
  {
   "cell_type": "markdown",
   "id": "2779dac9",
   "metadata": {},
   "source": [
    "<font size=2> Com os valores de <i>p < 0,05</i> no teste, é possível concluir que as variáveis <b>Pregnancies e SkinThickness</b> não apresentam distribuição normal. Porém a variável <b>BMI</b> indica uma normal.  </font> "
   ]
  },
  {
   "cell_type": "markdown",
   "id": "226cbd8f",
   "metadata": {},
   "source": [
    "---"
   ]
  },
  {
   "cell_type": "markdown",
   "id": "005357d7",
   "metadata": {},
   "source": [
    "<font color=green size=5> <b>4 - Testes de Hipóteses</b> </font> "
   ]
  },
  {
   "cell_type": "markdown",
   "id": "0e10568f",
   "metadata": {},
   "source": [
    "Os testes não paramétricos serão utilizados assumindo que as variáveis que se quer observar não apresentam distribuição normal. "
   ]
  },
  {
   "cell_type": "markdown",
   "id": "26916e35",
   "metadata": {},
   "source": [
    "#### Correlação "
   ]
  },
  {
   "cell_type": "code",
   "execution_count": 42,
   "id": "520cf089",
   "metadata": {},
   "outputs": [
    {
     "data": {
      "text/html": [
       "<table class=\"dataframe\">\n",
       "<caption>A matrix: 4 × 4 of type dbl</caption>\n",
       "<thead>\n",
       "\t<tr><th></th><th scope=col>Pregnancies</th><th scope=col>SkinThickness</th><th scope=col>BMI</th><th scope=col>Outcome</th></tr>\n",
       "</thead>\n",
       "<tbody>\n",
       "\t<tr><th scope=row>Pregnancies</th><td> 1.00000000</td><td>0.05475868</td><td>-0.06555144</td><td>0.2002345</td></tr>\n",
       "\t<tr><th scope=row>SkinThickness</th><td> 0.05475868</td><td>1.00000000</td><td> 0.67439293</td><td>0.2601534</td></tr>\n",
       "\t<tr><th scope=row>BMI</th><td>-0.06555144</td><td>0.67439293</td><td> 1.00000000</td><td>0.2670772</td></tr>\n",
       "\t<tr><th scope=row>Outcome</th><td> 0.20023445</td><td>0.26015343</td><td> 0.26707717</td><td>1.0000000</td></tr>\n",
       "</tbody>\n",
       "</table>\n"
      ],
      "text/latex": [
       "A matrix: 4 × 4 of type dbl\n",
       "\\begin{tabular}{r|llll}\n",
       "  & Pregnancies & SkinThickness & BMI & Outcome\\\\\n",
       "\\hline\n",
       "\tPregnancies &  1.00000000 & 0.05475868 & -0.06555144 & 0.2002345\\\\\n",
       "\tSkinThickness &  0.05475868 & 1.00000000 &  0.67439293 & 0.2601534\\\\\n",
       "\tBMI & -0.06555144 & 0.67439293 &  1.00000000 & 0.2670772\\\\\n",
       "\tOutcome &  0.20023445 & 0.26015343 &  0.26707717 & 1.0000000\\\\\n",
       "\\end{tabular}\n"
      ],
      "text/markdown": [
       "\n",
       "A matrix: 4 × 4 of type dbl\n",
       "\n",
       "| <!--/--> | Pregnancies | SkinThickness | BMI | Outcome |\n",
       "|---|---|---|---|---|\n",
       "| Pregnancies |  1.00000000 | 0.05475868 | -0.06555144 | 0.2002345 |\n",
       "| SkinThickness |  0.05475868 | 1.00000000 |  0.67439293 | 0.2601534 |\n",
       "| BMI | -0.06555144 | 0.67439293 |  1.00000000 | 0.2670772 |\n",
       "| Outcome |  0.20023445 | 0.26015343 |  0.26707717 | 1.0000000 |\n",
       "\n"
      ],
      "text/plain": [
       "              Pregnancies SkinThickness BMI         Outcome  \n",
       "Pregnancies    1.00000000 0.05475868    -0.06555144 0.2002345\n",
       "SkinThickness  0.05475868 1.00000000     0.67439293 0.2601534\n",
       "BMI           -0.06555144 0.67439293     1.00000000 0.2670772\n",
       "Outcome        0.20023445 0.26015343     0.26707717 1.0000000"
      ]
     },
     "metadata": {},
     "output_type": "display_data"
    }
   ],
   "source": [
    "cor(dados_limpos[c('Pregnancies', 'SkinThickness', 'BMI', 'Outcome')], method=\"spearman\")"
   ]
  },
  {
   "cell_type": "markdown",
   "id": "3949bb8c",
   "metadata": {},
   "source": [
    "###### Biblioteca para discretizar o BMI"
   ]
  },
  {
   "cell_type": "code",
   "execution_count": 43,
   "id": "ba90e267",
   "metadata": {},
   "outputs": [],
   "source": [
    "#library(dvmisc)\n",
    "#codigo original em: https://rdrr.io/cran/dvmisc/src/R/bmi4.R\n",
    "#Alterado as labels para esse caso\n",
    "bmi4 <- function(x, labels = TRUE) {\n",
    "  if (labels) {\n",
    "    y <- cut(x, breaks = c(-Inf, 18.5, 25, 30, Inf), right = F,\n",
    "             labels = c(1, 2, 3, 4))\n",
    "  } else {\n",
    "    y <- cut(x, breaks = c(-Inf, 18.5, 25, 30, Inf), right = F)\n",
    "  }\n",
    "  return(y)\n",
    "}"
   ]
  },
  {
   "cell_type": "code",
   "execution_count": 44,
   "id": "fedc3fbf",
   "metadata": {},
   "outputs": [],
   "source": [
    "#Criando uma nova coluna\n",
    "dados_limpos$Cat.BMI<-bmi4(dados_limpos$BMI, labels = TRUE)"
   ]
  },
  {
   "cell_type": "code",
   "execution_count": 45,
   "id": "a8559c16",
   "metadata": {},
   "outputs": [
    {
     "data": {
      "text/html": [
       "<table class=\"dataframe\">\n",
       "<caption>A data.frame: 6 × 10</caption>\n",
       "<thead>\n",
       "\t<tr><th></th><th scope=col>Pregnancies</th><th scope=col>Glucose</th><th scope=col>BloodPressure</th><th scope=col>SkinThickness</th><th scope=col>Insulin</th><th scope=col>BMI</th><th scope=col>DiabetesPedigreeFunction</th><th scope=col>Age</th><th scope=col>Outcome</th><th scope=col>Cat.BMI</th></tr>\n",
       "\t<tr><th></th><th scope=col>&lt;int&gt;</th><th scope=col>&lt;int&gt;</th><th scope=col>&lt;int&gt;</th><th scope=col>&lt;int&gt;</th><th scope=col>&lt;int&gt;</th><th scope=col>&lt;dbl&gt;</th><th scope=col>&lt;dbl&gt;</th><th scope=col>&lt;int&gt;</th><th scope=col>&lt;int&gt;</th><th scope=col>&lt;fct&gt;</th></tr>\n",
       "</thead>\n",
       "<tbody>\n",
       "\t<tr><th scope=row>4</th><td>1</td><td> 89</td><td>66</td><td>23</td><td> 94</td><td>28.1</td><td>0.167</td><td>21</td><td>0</td><td>3</td></tr>\n",
       "\t<tr><th scope=row>5</th><td>0</td><td>137</td><td>40</td><td>35</td><td>168</td><td>43.1</td><td>2.288</td><td>33</td><td>1</td><td>4</td></tr>\n",
       "\t<tr><th scope=row>7</th><td>3</td><td> 78</td><td>50</td><td>32</td><td> 88</td><td>31.0</td><td>0.248</td><td>26</td><td>1</td><td>4</td></tr>\n",
       "\t<tr><th scope=row>9</th><td>2</td><td>197</td><td>70</td><td>45</td><td>543</td><td>30.5</td><td>0.158</td><td>53</td><td>1</td><td>4</td></tr>\n",
       "\t<tr><th scope=row>14</th><td>1</td><td>189</td><td>60</td><td>23</td><td>846</td><td>30.1</td><td>0.398</td><td>59</td><td>1</td><td>4</td></tr>\n",
       "\t<tr><th scope=row>15</th><td>5</td><td>166</td><td>72</td><td>19</td><td>175</td><td>25.8</td><td>0.587</td><td>51</td><td>1</td><td>3</td></tr>\n",
       "</tbody>\n",
       "</table>\n"
      ],
      "text/latex": [
       "A data.frame: 6 × 10\n",
       "\\begin{tabular}{r|llllllllll}\n",
       "  & Pregnancies & Glucose & BloodPressure & SkinThickness & Insulin & BMI & DiabetesPedigreeFunction & Age & Outcome & Cat.BMI\\\\\n",
       "  & <int> & <int> & <int> & <int> & <int> & <dbl> & <dbl> & <int> & <int> & <fct>\\\\\n",
       "\\hline\n",
       "\t4 & 1 &  89 & 66 & 23 &  94 & 28.1 & 0.167 & 21 & 0 & 3\\\\\n",
       "\t5 & 0 & 137 & 40 & 35 & 168 & 43.1 & 2.288 & 33 & 1 & 4\\\\\n",
       "\t7 & 3 &  78 & 50 & 32 &  88 & 31.0 & 0.248 & 26 & 1 & 4\\\\\n",
       "\t9 & 2 & 197 & 70 & 45 & 543 & 30.5 & 0.158 & 53 & 1 & 4\\\\\n",
       "\t14 & 1 & 189 & 60 & 23 & 846 & 30.1 & 0.398 & 59 & 1 & 4\\\\\n",
       "\t15 & 5 & 166 & 72 & 19 & 175 & 25.8 & 0.587 & 51 & 1 & 3\\\\\n",
       "\\end{tabular}\n"
      ],
      "text/markdown": [
       "\n",
       "A data.frame: 6 × 10\n",
       "\n",
       "| <!--/--> | Pregnancies &lt;int&gt; | Glucose &lt;int&gt; | BloodPressure &lt;int&gt; | SkinThickness &lt;int&gt; | Insulin &lt;int&gt; | BMI &lt;dbl&gt; | DiabetesPedigreeFunction &lt;dbl&gt; | Age &lt;int&gt; | Outcome &lt;int&gt; | Cat.BMI &lt;fct&gt; |\n",
       "|---|---|---|---|---|---|---|---|---|---|---|\n",
       "| 4 | 1 |  89 | 66 | 23 |  94 | 28.1 | 0.167 | 21 | 0 | 3 |\n",
       "| 5 | 0 | 137 | 40 | 35 | 168 | 43.1 | 2.288 | 33 | 1 | 4 |\n",
       "| 7 | 3 |  78 | 50 | 32 |  88 | 31.0 | 0.248 | 26 | 1 | 4 |\n",
       "| 9 | 2 | 197 | 70 | 45 | 543 | 30.5 | 0.158 | 53 | 1 | 4 |\n",
       "| 14 | 1 | 189 | 60 | 23 | 846 | 30.1 | 0.398 | 59 | 1 | 4 |\n",
       "| 15 | 5 | 166 | 72 | 19 | 175 | 25.8 | 0.587 | 51 | 1 | 3 |\n",
       "\n"
      ],
      "text/plain": [
       "   Pregnancies Glucose BloodPressure SkinThickness Insulin BMI \n",
       "4  1            89     66            23             94     28.1\n",
       "5  0           137     40            35            168     43.1\n",
       "7  3            78     50            32             88     31.0\n",
       "9  2           197     70            45            543     30.5\n",
       "14 1           189     60            23            846     30.1\n",
       "15 5           166     72            19            175     25.8\n",
       "   DiabetesPedigreeFunction Age Outcome Cat.BMI\n",
       "4  0.167                    21  0       3      \n",
       "5  2.288                    33  1       4      \n",
       "7  0.248                    26  1       4      \n",
       "9  0.158                    53  1       4      \n",
       "14 0.398                    59  1       4      \n",
       "15 0.587                    51  1       3      "
      ]
     },
     "metadata": {},
     "output_type": "display_data"
    }
   ],
   "source": [
    "head(dados_limpos)"
   ]
  },
  {
   "cell_type": "markdown",
   "id": "08fb54e4",
   "metadata": {},
   "source": [
    "<font size=3 color=blue> <b> Passo 1 - Formular Hipóteses </b></font>\n",
    "<ul>\n",
    "<li>$H_0$ = Não há assossiação entre gravidez (Pregnancies) e IMC (BMI).</li>\n",
    "<li>$H_1$ = Há assossiação entre gravidez (Pregnancies) e IMC (BMI). </li>\n",
    "</ul>\n",
    "<hr>\n",
    "<ul>\n",
    "<li>$H_0$ = Não há assossiação entre gravidez (Pregnancies) e Diabetes (Outcome).</li>\n",
    "<li>$H_1$ = Há assossiação entre gravidez (Pregnancies) e Diabetes (Outcome). </li>\n",
    "</ul>\n",
    "\n"
   ]
  },
  {
   "cell_type": "markdown",
   "id": "3237bc4e",
   "metadata": {},
   "source": [
    "<font size=3 color=blue> <b> Passo 2 - Definir o nível de significância </b></font><br>\n",
    "<b> <ul> <li>Será considerada a significância de 1% (0,01) </li> </ul> </b>"
   ]
  },
  {
   "cell_type": "code",
   "execution_count": 46,
   "id": "f791cb0b",
   "metadata": {},
   "outputs": [],
   "source": [
    "sig <- 0.01"
   ]
  },
  {
   "cell_type": "code",
   "execution_count": 47,
   "id": "e2329156",
   "metadata": {},
   "outputs": [
    {
     "data": {
      "text/html": [
       "<table class=\"dataframe\">\n",
       "<caption>A matrix: 50 × 13 of type dbl</caption>\n",
       "<thead>\n",
       "\t<tr><th></th><th scope=col>0.005</th><th scope=col>0.010</th><th scope=col>0.025</th><th scope=col>0.050</th><th scope=col>0.100</th><th scope=col>0.250</th><th scope=col>0.500</th><th scope=col>0.750</th><th scope=col>0.900</th><th scope=col>0.975</th><th scope=col>0.950</th><th scope=col>0.990</th><th scope=col>0.995</th></tr>\n",
       "</thead>\n",
       "<tbody>\n",
       "\t<tr><th scope=row> 1</th><td> 0.0000</td><td> 0.0002</td><td> 0.0010</td><td> 0.0039</td><td> 0.0158</td><td> 0.1015</td><td> 0.4549</td><td> 1.3233</td><td> 2.7055</td><td> 5.0239</td><td> 3.8415</td><td> 6.6349</td><td> 7.8794</td></tr>\n",
       "\t<tr><th scope=row> 2</th><td> 0.0100</td><td> 0.0201</td><td> 0.0506</td><td> 0.1026</td><td> 0.2107</td><td> 0.5754</td><td> 1.3863</td><td> 2.7726</td><td> 4.6052</td><td> 7.3778</td><td> 5.9915</td><td> 9.2103</td><td>10.5966</td></tr>\n",
       "\t<tr><th scope=row> 3</th><td> 0.0717</td><td> 0.1148</td><td> 0.2158</td><td> 0.3518</td><td> 0.5844</td><td> 1.2125</td><td> 2.3660</td><td> 4.1083</td><td> 6.2514</td><td> 9.3484</td><td> 7.8147</td><td>11.3449</td><td>12.8382</td></tr>\n",
       "\t<tr><th scope=row> 4</th><td> 0.2070</td><td> 0.2971</td><td> 0.4844</td><td> 0.7107</td><td> 1.0636</td><td> 1.9226</td><td> 3.3567</td><td> 5.3853</td><td> 7.7794</td><td>11.1433</td><td> 9.4877</td><td>13.2767</td><td>14.8603</td></tr>\n",
       "\t<tr><th scope=row> 5</th><td> 0.4117</td><td> 0.5543</td><td> 0.8312</td><td> 1.1455</td><td> 1.6103</td><td> 2.6746</td><td> 4.3515</td><td> 6.6257</td><td> 9.2364</td><td>12.8325</td><td>11.0705</td><td>15.0863</td><td>16.7496</td></tr>\n",
       "\t<tr><th scope=row> 6</th><td> 0.6757</td><td> 0.8721</td><td> 1.2373</td><td> 1.6354</td><td> 2.2041</td><td> 3.4546</td><td> 5.3481</td><td> 7.8408</td><td>10.6446</td><td>14.4494</td><td>12.5916</td><td>16.8119</td><td>18.5476</td></tr>\n",
       "\t<tr><th scope=row> 7</th><td> 0.9893</td><td> 1.2390</td><td> 1.6899</td><td> 2.1673</td><td> 2.8331</td><td> 4.2549</td><td> 6.3458</td><td> 9.0371</td><td>12.0170</td><td>16.0128</td><td>14.0671</td><td>18.4753</td><td>20.2777</td></tr>\n",
       "\t<tr><th scope=row> 8</th><td> 1.3444</td><td> 1.6465</td><td> 2.1797</td><td> 2.7326</td><td> 3.4895</td><td> 5.0706</td><td> 7.3441</td><td>10.2189</td><td>13.3616</td><td>17.5345</td><td>15.5073</td><td>20.0902</td><td>21.9550</td></tr>\n",
       "\t<tr><th scope=row> 9</th><td> 1.7349</td><td> 2.0879</td><td> 2.7004</td><td> 3.3251</td><td> 4.1682</td><td> 5.8988</td><td> 8.3428</td><td>11.3888</td><td>14.6837</td><td>19.0228</td><td>16.9190</td><td>21.6660</td><td>23.5894</td></tr>\n",
       "\t<tr><th scope=row>10</th><td> 2.1559</td><td> 2.5582</td><td> 3.2470</td><td> 3.9403</td><td> 4.8652</td><td> 6.7372</td><td> 9.3418</td><td>12.5489</td><td>15.9872</td><td>20.4832</td><td>18.3070</td><td>23.2093</td><td>25.1882</td></tr>\n",
       "\t<tr><th scope=row>11</th><td> 2.6032</td><td> 3.0535</td><td> 3.8157</td><td> 4.5748</td><td> 5.5778</td><td> 7.5841</td><td>10.3410</td><td>13.7007</td><td>17.2750</td><td>21.9200</td><td>19.6751</td><td>24.7250</td><td>26.7568</td></tr>\n",
       "\t<tr><th scope=row>12</th><td> 3.0738</td><td> 3.5706</td><td> 4.4038</td><td> 5.2260</td><td> 6.3038</td><td> 8.4384</td><td>11.3403</td><td>14.8454</td><td>18.5493</td><td>23.3367</td><td>21.0261</td><td>26.2170</td><td>28.2995</td></tr>\n",
       "\t<tr><th scope=row>13</th><td> 3.5650</td><td> 4.1069</td><td> 5.0088</td><td> 5.8919</td><td> 7.0415</td><td> 9.2991</td><td>12.3398</td><td>15.9839</td><td>19.8119</td><td>24.7356</td><td>22.3620</td><td>27.6882</td><td>29.8195</td></tr>\n",
       "\t<tr><th scope=row>14</th><td> 4.0747</td><td> 4.6604</td><td> 5.6287</td><td> 6.5706</td><td> 7.7895</td><td>10.1653</td><td>13.3393</td><td>17.1169</td><td>21.0641</td><td>26.1189</td><td>23.6848</td><td>29.1412</td><td>31.3193</td></tr>\n",
       "\t<tr><th scope=row>15</th><td> 4.6009</td><td> 5.2293</td><td> 6.2621</td><td> 7.2609</td><td> 8.5468</td><td>11.0365</td><td>14.3389</td><td>18.2451</td><td>22.3071</td><td>27.4884</td><td>24.9958</td><td>30.5779</td><td>32.8013</td></tr>\n",
       "\t<tr><th scope=row>16</th><td> 5.1422</td><td> 5.8122</td><td> 6.9077</td><td> 7.9616</td><td> 9.3122</td><td>11.9122</td><td>15.3385</td><td>19.3689</td><td>23.5418</td><td>28.8454</td><td>26.2962</td><td>31.9999</td><td>34.2672</td></tr>\n",
       "\t<tr><th scope=row>17</th><td> 5.6972</td><td> 6.4078</td><td> 7.5642</td><td> 8.6718</td><td>10.0852</td><td>12.7919</td><td>16.3382</td><td>20.4887</td><td>24.7690</td><td>30.1910</td><td>27.5871</td><td>33.4087</td><td>35.7185</td></tr>\n",
       "\t<tr><th scope=row>18</th><td> 6.2648</td><td> 7.0149</td><td> 8.2307</td><td> 9.3905</td><td>10.8649</td><td>13.6753</td><td>17.3379</td><td>21.6049</td><td>25.9894</td><td>31.5264</td><td>28.8693</td><td>34.8053</td><td>37.1565</td></tr>\n",
       "\t<tr><th scope=row>19</th><td> 6.8440</td><td> 7.6327</td><td> 8.9065</td><td>10.1170</td><td>11.6509</td><td>14.5620</td><td>18.3377</td><td>22.7178</td><td>27.2036</td><td>32.8523</td><td>30.1435</td><td>36.1909</td><td>38.5823</td></tr>\n",
       "\t<tr><th scope=row>20</th><td> 7.4338</td><td> 8.2604</td><td> 9.5908</td><td>10.8508</td><td>12.4426</td><td>15.4518</td><td>19.3374</td><td>23.8277</td><td>28.4120</td><td>34.1696</td><td>31.4104</td><td>37.5662</td><td>39.9968</td></tr>\n",
       "\t<tr><th scope=row>21</th><td> 8.0337</td><td> 8.8972</td><td>10.2829</td><td>11.5913</td><td>13.2396</td><td>16.3444</td><td>20.3372</td><td>24.9348</td><td>29.6151</td><td>35.4789</td><td>32.6706</td><td>38.9322</td><td>41.4011</td></tr>\n",
       "\t<tr><th scope=row>22</th><td> 8.6427</td><td> 9.5425</td><td>10.9823</td><td>12.3380</td><td>14.0415</td><td>17.2396</td><td>21.3370</td><td>26.0393</td><td>30.8133</td><td>36.7807</td><td>33.9244</td><td>40.2894</td><td>42.7957</td></tr>\n",
       "\t<tr><th scope=row>23</th><td> 9.2604</td><td>10.1957</td><td>11.6886</td><td>13.0905</td><td>14.8480</td><td>18.1373</td><td>22.3369</td><td>27.1413</td><td>32.0069</td><td>38.0756</td><td>35.1725</td><td>41.6384</td><td>44.1813</td></tr>\n",
       "\t<tr><th scope=row>24</th><td> 9.8862</td><td>10.8564</td><td>12.4012</td><td>13.8484</td><td>15.6587</td><td>19.0373</td><td>23.3367</td><td>28.2412</td><td>33.1962</td><td>39.3641</td><td>36.4150</td><td>42.9798</td><td>45.5585</td></tr>\n",
       "\t<tr><th scope=row>25</th><td>10.5197</td><td>11.5240</td><td>13.1197</td><td>14.6114</td><td>16.4734</td><td>19.9393</td><td>24.3366</td><td>29.3389</td><td>34.3816</td><td>40.6465</td><td>37.6525</td><td>44.3141</td><td>46.9279</td></tr>\n",
       "\t<tr><th scope=row>26</th><td>11.1602</td><td>12.1981</td><td>13.8439</td><td>15.3792</td><td>17.2919</td><td>20.8434</td><td>25.3365</td><td>30.4346</td><td>35.5632</td><td>41.9232</td><td>38.8851</td><td>45.6417</td><td>48.2899</td></tr>\n",
       "\t<tr><th scope=row>27</th><td>11.8076</td><td>12.8785</td><td>14.5734</td><td>16.1514</td><td>18.1139</td><td>21.7494</td><td>26.3363</td><td>31.5284</td><td>36.7412</td><td>43.1945</td><td>40.1133</td><td>46.9629</td><td>49.6449</td></tr>\n",
       "\t<tr><th scope=row>28</th><td>12.4613</td><td>13.5647</td><td>15.3079</td><td>16.9279</td><td>18.9392</td><td>22.6572</td><td>27.3362</td><td>32.6205</td><td>37.9159</td><td>44.4608</td><td>41.3371</td><td>48.2782</td><td>50.9934</td></tr>\n",
       "\t<tr><th scope=row>29</th><td>13.1211</td><td>14.2565</td><td>16.0471</td><td>17.7084</td><td>19.7677</td><td>23.5666</td><td>28.3361</td><td>33.7109</td><td>39.0875</td><td>45.7223</td><td>42.5570</td><td>49.5879</td><td>52.3356</td></tr>\n",
       "\t<tr><th scope=row>30</th><td>13.7867</td><td>14.9535</td><td>16.7908</td><td>18.4927</td><td>20.5992</td><td>24.4776</td><td>29.3360</td><td>34.7997</td><td>40.2560</td><td>46.9792</td><td>43.7730</td><td>50.8922</td><td>53.6720</td></tr>\n",
       "\t<tr><th scope=row>31</th><td>14.4578</td><td>15.6555</td><td>17.5387</td><td>19.2806</td><td>21.4336</td><td>25.3901</td><td>30.3359</td><td>35.8871</td><td>41.4217</td><td>48.2319</td><td>44.9853</td><td>52.1914</td><td>55.0027</td></tr>\n",
       "\t<tr><th scope=row>32</th><td>15.1340</td><td>16.3622</td><td>18.2908</td><td>20.0719</td><td>22.2706</td><td>26.3041</td><td>31.3359</td><td>36.9730</td><td>42.5847</td><td>49.4804</td><td>46.1943</td><td>53.4858</td><td>56.3281</td></tr>\n",
       "\t<tr><th scope=row>33</th><td>15.8153</td><td>17.0735</td><td>19.0467</td><td>20.8665</td><td>23.1102</td><td>27.2194</td><td>32.3358</td><td>38.0575</td><td>43.7452</td><td>50.7251</td><td>47.3999</td><td>54.7755</td><td>57.6484</td></tr>\n",
       "\t<tr><th scope=row>34</th><td>16.5013</td><td>17.7891</td><td>19.8063</td><td>21.6643</td><td>23.9523</td><td>28.1361</td><td>33.3357</td><td>39.1408</td><td>44.9032</td><td>51.9660</td><td>48.6024</td><td>56.0609</td><td>58.9639</td></tr>\n",
       "\t<tr><th scope=row>35</th><td>17.1918</td><td>18.5089</td><td>20.5694</td><td>22.4650</td><td>24.7967</td><td>29.0540</td><td>34.3356</td><td>40.2228</td><td>46.0588</td><td>53.2033</td><td>49.8018</td><td>57.3421</td><td>60.2748</td></tr>\n",
       "\t<tr><th scope=row>36</th><td>17.8867</td><td>19.2327</td><td>21.3359</td><td>23.2686</td><td>25.6433</td><td>29.9730</td><td>35.3356</td><td>41.3036</td><td>47.2122</td><td>54.4373</td><td>50.9985</td><td>58.6192</td><td>61.5812</td></tr>\n",
       "\t<tr><th scope=row>37</th><td>18.5858</td><td>19.9602</td><td>22.1056</td><td>24.0749</td><td>26.4921</td><td>30.8933</td><td>36.3355</td><td>42.3833</td><td>48.3634</td><td>55.6680</td><td>52.1923</td><td>59.8925</td><td>62.8833</td></tr>\n",
       "\t<tr><th scope=row>38</th><td>19.2889</td><td>20.6914</td><td>22.8785</td><td>24.8839</td><td>27.3430</td><td>31.8146</td><td>37.3355</td><td>43.4619</td><td>49.5126</td><td>56.8955</td><td>53.3835</td><td>61.1621</td><td>64.1814</td></tr>\n",
       "\t<tr><th scope=row>39</th><td>19.9959</td><td>21.4262</td><td>23.6543</td><td>25.6954</td><td>28.1958</td><td>32.7369</td><td>38.3354</td><td>44.5395</td><td>50.6598</td><td>58.1201</td><td>54.5722</td><td>62.4281</td><td>65.4756</td></tr>\n",
       "\t<tr><th scope=row>40</th><td>20.7065</td><td>22.1643</td><td>24.4330</td><td>26.5093</td><td>29.0505</td><td>33.6603</td><td>39.3353</td><td>45.6160</td><td>51.8051</td><td>59.3417</td><td>55.7585</td><td>63.6907</td><td>66.7660</td></tr>\n",
       "\t<tr><th scope=row>41</th><td>21.4208</td><td>22.9056</td><td>25.2145</td><td>27.3256</td><td>29.9071</td><td>34.5846</td><td>40.3353</td><td>46.6916</td><td>52.9485</td><td>60.5606</td><td>56.9424</td><td>64.9501</td><td>68.0527</td></tr>\n",
       "\t<tr><th scope=row>42</th><td>22.1385</td><td>23.6501</td><td>25.9987</td><td>28.1440</td><td>30.7654</td><td>35.5099</td><td>41.3352</td><td>47.7663</td><td>54.0902</td><td>61.7768</td><td>58.1240</td><td>66.2062</td><td>69.3360</td></tr>\n",
       "\t<tr><th scope=row>43</th><td>22.8595</td><td>24.3976</td><td>26.7854</td><td>28.9647</td><td>31.6255</td><td>36.4361</td><td>42.3352</td><td>48.8400</td><td>55.2302</td><td>62.9904</td><td>59.3035</td><td>67.4593</td><td>70.6159</td></tr>\n",
       "\t<tr><th scope=row>44</th><td>23.5837</td><td>25.1480</td><td>27.5746</td><td>29.7875</td><td>32.4871</td><td>37.3631</td><td>43.3352</td><td>49.9129</td><td>56.3685</td><td>64.2015</td><td>60.4809</td><td>68.7095</td><td>71.8926</td></tr>\n",
       "\t<tr><th scope=row>45</th><td>24.3110</td><td>25.9013</td><td>28.3662</td><td>30.6123</td><td>33.3504</td><td>38.2910</td><td>44.3351</td><td>50.9849</td><td>57.5053</td><td>65.4102</td><td>61.6562</td><td>69.9568</td><td>73.1661</td></tr>\n",
       "\t<tr><th scope=row>46</th><td>25.0413</td><td>26.6572</td><td>29.1601</td><td>31.4390</td><td>34.2152</td><td>39.2197</td><td>45.3351</td><td>52.0562</td><td>58.6405</td><td>66.6165</td><td>62.8296</td><td>71.2014</td><td>74.4365</td></tr>\n",
       "\t<tr><th scope=row>47</th><td>25.7746</td><td>27.4158</td><td>29.9562</td><td>32.2676</td><td>35.0814</td><td>40.1492</td><td>46.3350</td><td>53.1267</td><td>59.7743</td><td>67.8206</td><td>64.0011</td><td>72.4433</td><td>75.7041</td></tr>\n",
       "\t<tr><th scope=row>48</th><td>26.5106</td><td>28.1770</td><td>30.7545</td><td>33.0981</td><td>35.9491</td><td>41.0794</td><td>47.3350</td><td>54.1964</td><td>60.9066</td><td>69.0226</td><td>65.1708</td><td>73.6826</td><td>76.9688</td></tr>\n",
       "\t<tr><th scope=row>49</th><td>27.2493</td><td>28.9406</td><td>31.5549</td><td>33.9303</td><td>36.8182</td><td>42.0104</td><td>48.3350</td><td>55.2653</td><td>62.0375</td><td>70.2224</td><td>66.3386</td><td>74.9195</td><td>78.2307</td></tr>\n",
       "\t<tr><th scope=row>50</th><td>27.9907</td><td>29.7067</td><td>32.3574</td><td>34.7643</td><td>37.6886</td><td>42.9421</td><td>49.3349</td><td>56.3336</td><td>63.1671</td><td>71.4202</td><td>67.5048</td><td>76.1539</td><td>79.4900</td></tr>\n",
       "</tbody>\n",
       "</table>\n"
      ],
      "text/latex": [
       "A matrix: 50 × 13 of type dbl\n",
       "\\begin{tabular}{r|lllllllllllll}\n",
       "  & 0.005 & 0.010 & 0.025 & 0.050 & 0.100 & 0.250 & 0.500 & 0.750 & 0.900 & 0.975 & 0.950 & 0.990 & 0.995\\\\\n",
       "\\hline\n",
       "\t 1 &  0.0000 &  0.0002 &  0.0010 &  0.0039 &  0.0158 &  0.1015 &  0.4549 &  1.3233 &  2.7055 &  5.0239 &  3.8415 &  6.6349 &  7.8794\\\\\n",
       "\t 2 &  0.0100 &  0.0201 &  0.0506 &  0.1026 &  0.2107 &  0.5754 &  1.3863 &  2.7726 &  4.6052 &  7.3778 &  5.9915 &  9.2103 & 10.5966\\\\\n",
       "\t 3 &  0.0717 &  0.1148 &  0.2158 &  0.3518 &  0.5844 &  1.2125 &  2.3660 &  4.1083 &  6.2514 &  9.3484 &  7.8147 & 11.3449 & 12.8382\\\\\n",
       "\t 4 &  0.2070 &  0.2971 &  0.4844 &  0.7107 &  1.0636 &  1.9226 &  3.3567 &  5.3853 &  7.7794 & 11.1433 &  9.4877 & 13.2767 & 14.8603\\\\\n",
       "\t 5 &  0.4117 &  0.5543 &  0.8312 &  1.1455 &  1.6103 &  2.6746 &  4.3515 &  6.6257 &  9.2364 & 12.8325 & 11.0705 & 15.0863 & 16.7496\\\\\n",
       "\t 6 &  0.6757 &  0.8721 &  1.2373 &  1.6354 &  2.2041 &  3.4546 &  5.3481 &  7.8408 & 10.6446 & 14.4494 & 12.5916 & 16.8119 & 18.5476\\\\\n",
       "\t 7 &  0.9893 &  1.2390 &  1.6899 &  2.1673 &  2.8331 &  4.2549 &  6.3458 &  9.0371 & 12.0170 & 16.0128 & 14.0671 & 18.4753 & 20.2777\\\\\n",
       "\t 8 &  1.3444 &  1.6465 &  2.1797 &  2.7326 &  3.4895 &  5.0706 &  7.3441 & 10.2189 & 13.3616 & 17.5345 & 15.5073 & 20.0902 & 21.9550\\\\\n",
       "\t 9 &  1.7349 &  2.0879 &  2.7004 &  3.3251 &  4.1682 &  5.8988 &  8.3428 & 11.3888 & 14.6837 & 19.0228 & 16.9190 & 21.6660 & 23.5894\\\\\n",
       "\t10 &  2.1559 &  2.5582 &  3.2470 &  3.9403 &  4.8652 &  6.7372 &  9.3418 & 12.5489 & 15.9872 & 20.4832 & 18.3070 & 23.2093 & 25.1882\\\\\n",
       "\t11 &  2.6032 &  3.0535 &  3.8157 &  4.5748 &  5.5778 &  7.5841 & 10.3410 & 13.7007 & 17.2750 & 21.9200 & 19.6751 & 24.7250 & 26.7568\\\\\n",
       "\t12 &  3.0738 &  3.5706 &  4.4038 &  5.2260 &  6.3038 &  8.4384 & 11.3403 & 14.8454 & 18.5493 & 23.3367 & 21.0261 & 26.2170 & 28.2995\\\\\n",
       "\t13 &  3.5650 &  4.1069 &  5.0088 &  5.8919 &  7.0415 &  9.2991 & 12.3398 & 15.9839 & 19.8119 & 24.7356 & 22.3620 & 27.6882 & 29.8195\\\\\n",
       "\t14 &  4.0747 &  4.6604 &  5.6287 &  6.5706 &  7.7895 & 10.1653 & 13.3393 & 17.1169 & 21.0641 & 26.1189 & 23.6848 & 29.1412 & 31.3193\\\\\n",
       "\t15 &  4.6009 &  5.2293 &  6.2621 &  7.2609 &  8.5468 & 11.0365 & 14.3389 & 18.2451 & 22.3071 & 27.4884 & 24.9958 & 30.5779 & 32.8013\\\\\n",
       "\t16 &  5.1422 &  5.8122 &  6.9077 &  7.9616 &  9.3122 & 11.9122 & 15.3385 & 19.3689 & 23.5418 & 28.8454 & 26.2962 & 31.9999 & 34.2672\\\\\n",
       "\t17 &  5.6972 &  6.4078 &  7.5642 &  8.6718 & 10.0852 & 12.7919 & 16.3382 & 20.4887 & 24.7690 & 30.1910 & 27.5871 & 33.4087 & 35.7185\\\\\n",
       "\t18 &  6.2648 &  7.0149 &  8.2307 &  9.3905 & 10.8649 & 13.6753 & 17.3379 & 21.6049 & 25.9894 & 31.5264 & 28.8693 & 34.8053 & 37.1565\\\\\n",
       "\t19 &  6.8440 &  7.6327 &  8.9065 & 10.1170 & 11.6509 & 14.5620 & 18.3377 & 22.7178 & 27.2036 & 32.8523 & 30.1435 & 36.1909 & 38.5823\\\\\n",
       "\t20 &  7.4338 &  8.2604 &  9.5908 & 10.8508 & 12.4426 & 15.4518 & 19.3374 & 23.8277 & 28.4120 & 34.1696 & 31.4104 & 37.5662 & 39.9968\\\\\n",
       "\t21 &  8.0337 &  8.8972 & 10.2829 & 11.5913 & 13.2396 & 16.3444 & 20.3372 & 24.9348 & 29.6151 & 35.4789 & 32.6706 & 38.9322 & 41.4011\\\\\n",
       "\t22 &  8.6427 &  9.5425 & 10.9823 & 12.3380 & 14.0415 & 17.2396 & 21.3370 & 26.0393 & 30.8133 & 36.7807 & 33.9244 & 40.2894 & 42.7957\\\\\n",
       "\t23 &  9.2604 & 10.1957 & 11.6886 & 13.0905 & 14.8480 & 18.1373 & 22.3369 & 27.1413 & 32.0069 & 38.0756 & 35.1725 & 41.6384 & 44.1813\\\\\n",
       "\t24 &  9.8862 & 10.8564 & 12.4012 & 13.8484 & 15.6587 & 19.0373 & 23.3367 & 28.2412 & 33.1962 & 39.3641 & 36.4150 & 42.9798 & 45.5585\\\\\n",
       "\t25 & 10.5197 & 11.5240 & 13.1197 & 14.6114 & 16.4734 & 19.9393 & 24.3366 & 29.3389 & 34.3816 & 40.6465 & 37.6525 & 44.3141 & 46.9279\\\\\n",
       "\t26 & 11.1602 & 12.1981 & 13.8439 & 15.3792 & 17.2919 & 20.8434 & 25.3365 & 30.4346 & 35.5632 & 41.9232 & 38.8851 & 45.6417 & 48.2899\\\\\n",
       "\t27 & 11.8076 & 12.8785 & 14.5734 & 16.1514 & 18.1139 & 21.7494 & 26.3363 & 31.5284 & 36.7412 & 43.1945 & 40.1133 & 46.9629 & 49.6449\\\\\n",
       "\t28 & 12.4613 & 13.5647 & 15.3079 & 16.9279 & 18.9392 & 22.6572 & 27.3362 & 32.6205 & 37.9159 & 44.4608 & 41.3371 & 48.2782 & 50.9934\\\\\n",
       "\t29 & 13.1211 & 14.2565 & 16.0471 & 17.7084 & 19.7677 & 23.5666 & 28.3361 & 33.7109 & 39.0875 & 45.7223 & 42.5570 & 49.5879 & 52.3356\\\\\n",
       "\t30 & 13.7867 & 14.9535 & 16.7908 & 18.4927 & 20.5992 & 24.4776 & 29.3360 & 34.7997 & 40.2560 & 46.9792 & 43.7730 & 50.8922 & 53.6720\\\\\n",
       "\t31 & 14.4578 & 15.6555 & 17.5387 & 19.2806 & 21.4336 & 25.3901 & 30.3359 & 35.8871 & 41.4217 & 48.2319 & 44.9853 & 52.1914 & 55.0027\\\\\n",
       "\t32 & 15.1340 & 16.3622 & 18.2908 & 20.0719 & 22.2706 & 26.3041 & 31.3359 & 36.9730 & 42.5847 & 49.4804 & 46.1943 & 53.4858 & 56.3281\\\\\n",
       "\t33 & 15.8153 & 17.0735 & 19.0467 & 20.8665 & 23.1102 & 27.2194 & 32.3358 & 38.0575 & 43.7452 & 50.7251 & 47.3999 & 54.7755 & 57.6484\\\\\n",
       "\t34 & 16.5013 & 17.7891 & 19.8063 & 21.6643 & 23.9523 & 28.1361 & 33.3357 & 39.1408 & 44.9032 & 51.9660 & 48.6024 & 56.0609 & 58.9639\\\\\n",
       "\t35 & 17.1918 & 18.5089 & 20.5694 & 22.4650 & 24.7967 & 29.0540 & 34.3356 & 40.2228 & 46.0588 & 53.2033 & 49.8018 & 57.3421 & 60.2748\\\\\n",
       "\t36 & 17.8867 & 19.2327 & 21.3359 & 23.2686 & 25.6433 & 29.9730 & 35.3356 & 41.3036 & 47.2122 & 54.4373 & 50.9985 & 58.6192 & 61.5812\\\\\n",
       "\t37 & 18.5858 & 19.9602 & 22.1056 & 24.0749 & 26.4921 & 30.8933 & 36.3355 & 42.3833 & 48.3634 & 55.6680 & 52.1923 & 59.8925 & 62.8833\\\\\n",
       "\t38 & 19.2889 & 20.6914 & 22.8785 & 24.8839 & 27.3430 & 31.8146 & 37.3355 & 43.4619 & 49.5126 & 56.8955 & 53.3835 & 61.1621 & 64.1814\\\\\n",
       "\t39 & 19.9959 & 21.4262 & 23.6543 & 25.6954 & 28.1958 & 32.7369 & 38.3354 & 44.5395 & 50.6598 & 58.1201 & 54.5722 & 62.4281 & 65.4756\\\\\n",
       "\t40 & 20.7065 & 22.1643 & 24.4330 & 26.5093 & 29.0505 & 33.6603 & 39.3353 & 45.6160 & 51.8051 & 59.3417 & 55.7585 & 63.6907 & 66.7660\\\\\n",
       "\t41 & 21.4208 & 22.9056 & 25.2145 & 27.3256 & 29.9071 & 34.5846 & 40.3353 & 46.6916 & 52.9485 & 60.5606 & 56.9424 & 64.9501 & 68.0527\\\\\n",
       "\t42 & 22.1385 & 23.6501 & 25.9987 & 28.1440 & 30.7654 & 35.5099 & 41.3352 & 47.7663 & 54.0902 & 61.7768 & 58.1240 & 66.2062 & 69.3360\\\\\n",
       "\t43 & 22.8595 & 24.3976 & 26.7854 & 28.9647 & 31.6255 & 36.4361 & 42.3352 & 48.8400 & 55.2302 & 62.9904 & 59.3035 & 67.4593 & 70.6159\\\\\n",
       "\t44 & 23.5837 & 25.1480 & 27.5746 & 29.7875 & 32.4871 & 37.3631 & 43.3352 & 49.9129 & 56.3685 & 64.2015 & 60.4809 & 68.7095 & 71.8926\\\\\n",
       "\t45 & 24.3110 & 25.9013 & 28.3662 & 30.6123 & 33.3504 & 38.2910 & 44.3351 & 50.9849 & 57.5053 & 65.4102 & 61.6562 & 69.9568 & 73.1661\\\\\n",
       "\t46 & 25.0413 & 26.6572 & 29.1601 & 31.4390 & 34.2152 & 39.2197 & 45.3351 & 52.0562 & 58.6405 & 66.6165 & 62.8296 & 71.2014 & 74.4365\\\\\n",
       "\t47 & 25.7746 & 27.4158 & 29.9562 & 32.2676 & 35.0814 & 40.1492 & 46.3350 & 53.1267 & 59.7743 & 67.8206 & 64.0011 & 72.4433 & 75.7041\\\\\n",
       "\t48 & 26.5106 & 28.1770 & 30.7545 & 33.0981 & 35.9491 & 41.0794 & 47.3350 & 54.1964 & 60.9066 & 69.0226 & 65.1708 & 73.6826 & 76.9688\\\\\n",
       "\t49 & 27.2493 & 28.9406 & 31.5549 & 33.9303 & 36.8182 & 42.0104 & 48.3350 & 55.2653 & 62.0375 & 70.2224 & 66.3386 & 74.9195 & 78.2307\\\\\n",
       "\t50 & 27.9907 & 29.7067 & 32.3574 & 34.7643 & 37.6886 & 42.9421 & 49.3349 & 56.3336 & 63.1671 & 71.4202 & 67.5048 & 76.1539 & 79.4900\\\\\n",
       "\\end{tabular}\n"
      ],
      "text/markdown": [
       "\n",
       "A matrix: 50 × 13 of type dbl\n",
       "\n",
       "| <!--/--> | 0.005 | 0.010 | 0.025 | 0.050 | 0.100 | 0.250 | 0.500 | 0.750 | 0.900 | 0.975 | 0.950 | 0.990 | 0.995 |\n",
       "|---|---|---|---|---|---|---|---|---|---|---|---|---|---|\n",
       "|  1 |  0.0000 |  0.0002 |  0.0010 |  0.0039 |  0.0158 |  0.1015 |  0.4549 |  1.3233 |  2.7055 |  5.0239 |  3.8415 |  6.6349 |  7.8794 |\n",
       "|  2 |  0.0100 |  0.0201 |  0.0506 |  0.1026 |  0.2107 |  0.5754 |  1.3863 |  2.7726 |  4.6052 |  7.3778 |  5.9915 |  9.2103 | 10.5966 |\n",
       "|  3 |  0.0717 |  0.1148 |  0.2158 |  0.3518 |  0.5844 |  1.2125 |  2.3660 |  4.1083 |  6.2514 |  9.3484 |  7.8147 | 11.3449 | 12.8382 |\n",
       "|  4 |  0.2070 |  0.2971 |  0.4844 |  0.7107 |  1.0636 |  1.9226 |  3.3567 |  5.3853 |  7.7794 | 11.1433 |  9.4877 | 13.2767 | 14.8603 |\n",
       "|  5 |  0.4117 |  0.5543 |  0.8312 |  1.1455 |  1.6103 |  2.6746 |  4.3515 |  6.6257 |  9.2364 | 12.8325 | 11.0705 | 15.0863 | 16.7496 |\n",
       "|  6 |  0.6757 |  0.8721 |  1.2373 |  1.6354 |  2.2041 |  3.4546 |  5.3481 |  7.8408 | 10.6446 | 14.4494 | 12.5916 | 16.8119 | 18.5476 |\n",
       "|  7 |  0.9893 |  1.2390 |  1.6899 |  2.1673 |  2.8331 |  4.2549 |  6.3458 |  9.0371 | 12.0170 | 16.0128 | 14.0671 | 18.4753 | 20.2777 |\n",
       "|  8 |  1.3444 |  1.6465 |  2.1797 |  2.7326 |  3.4895 |  5.0706 |  7.3441 | 10.2189 | 13.3616 | 17.5345 | 15.5073 | 20.0902 | 21.9550 |\n",
       "|  9 |  1.7349 |  2.0879 |  2.7004 |  3.3251 |  4.1682 |  5.8988 |  8.3428 | 11.3888 | 14.6837 | 19.0228 | 16.9190 | 21.6660 | 23.5894 |\n",
       "| 10 |  2.1559 |  2.5582 |  3.2470 |  3.9403 |  4.8652 |  6.7372 |  9.3418 | 12.5489 | 15.9872 | 20.4832 | 18.3070 | 23.2093 | 25.1882 |\n",
       "| 11 |  2.6032 |  3.0535 |  3.8157 |  4.5748 |  5.5778 |  7.5841 | 10.3410 | 13.7007 | 17.2750 | 21.9200 | 19.6751 | 24.7250 | 26.7568 |\n",
       "| 12 |  3.0738 |  3.5706 |  4.4038 |  5.2260 |  6.3038 |  8.4384 | 11.3403 | 14.8454 | 18.5493 | 23.3367 | 21.0261 | 26.2170 | 28.2995 |\n",
       "| 13 |  3.5650 |  4.1069 |  5.0088 |  5.8919 |  7.0415 |  9.2991 | 12.3398 | 15.9839 | 19.8119 | 24.7356 | 22.3620 | 27.6882 | 29.8195 |\n",
       "| 14 |  4.0747 |  4.6604 |  5.6287 |  6.5706 |  7.7895 | 10.1653 | 13.3393 | 17.1169 | 21.0641 | 26.1189 | 23.6848 | 29.1412 | 31.3193 |\n",
       "| 15 |  4.6009 |  5.2293 |  6.2621 |  7.2609 |  8.5468 | 11.0365 | 14.3389 | 18.2451 | 22.3071 | 27.4884 | 24.9958 | 30.5779 | 32.8013 |\n",
       "| 16 |  5.1422 |  5.8122 |  6.9077 |  7.9616 |  9.3122 | 11.9122 | 15.3385 | 19.3689 | 23.5418 | 28.8454 | 26.2962 | 31.9999 | 34.2672 |\n",
       "| 17 |  5.6972 |  6.4078 |  7.5642 |  8.6718 | 10.0852 | 12.7919 | 16.3382 | 20.4887 | 24.7690 | 30.1910 | 27.5871 | 33.4087 | 35.7185 |\n",
       "| 18 |  6.2648 |  7.0149 |  8.2307 |  9.3905 | 10.8649 | 13.6753 | 17.3379 | 21.6049 | 25.9894 | 31.5264 | 28.8693 | 34.8053 | 37.1565 |\n",
       "| 19 |  6.8440 |  7.6327 |  8.9065 | 10.1170 | 11.6509 | 14.5620 | 18.3377 | 22.7178 | 27.2036 | 32.8523 | 30.1435 | 36.1909 | 38.5823 |\n",
       "| 20 |  7.4338 |  8.2604 |  9.5908 | 10.8508 | 12.4426 | 15.4518 | 19.3374 | 23.8277 | 28.4120 | 34.1696 | 31.4104 | 37.5662 | 39.9968 |\n",
       "| 21 |  8.0337 |  8.8972 | 10.2829 | 11.5913 | 13.2396 | 16.3444 | 20.3372 | 24.9348 | 29.6151 | 35.4789 | 32.6706 | 38.9322 | 41.4011 |\n",
       "| 22 |  8.6427 |  9.5425 | 10.9823 | 12.3380 | 14.0415 | 17.2396 | 21.3370 | 26.0393 | 30.8133 | 36.7807 | 33.9244 | 40.2894 | 42.7957 |\n",
       "| 23 |  9.2604 | 10.1957 | 11.6886 | 13.0905 | 14.8480 | 18.1373 | 22.3369 | 27.1413 | 32.0069 | 38.0756 | 35.1725 | 41.6384 | 44.1813 |\n",
       "| 24 |  9.8862 | 10.8564 | 12.4012 | 13.8484 | 15.6587 | 19.0373 | 23.3367 | 28.2412 | 33.1962 | 39.3641 | 36.4150 | 42.9798 | 45.5585 |\n",
       "| 25 | 10.5197 | 11.5240 | 13.1197 | 14.6114 | 16.4734 | 19.9393 | 24.3366 | 29.3389 | 34.3816 | 40.6465 | 37.6525 | 44.3141 | 46.9279 |\n",
       "| 26 | 11.1602 | 12.1981 | 13.8439 | 15.3792 | 17.2919 | 20.8434 | 25.3365 | 30.4346 | 35.5632 | 41.9232 | 38.8851 | 45.6417 | 48.2899 |\n",
       "| 27 | 11.8076 | 12.8785 | 14.5734 | 16.1514 | 18.1139 | 21.7494 | 26.3363 | 31.5284 | 36.7412 | 43.1945 | 40.1133 | 46.9629 | 49.6449 |\n",
       "| 28 | 12.4613 | 13.5647 | 15.3079 | 16.9279 | 18.9392 | 22.6572 | 27.3362 | 32.6205 | 37.9159 | 44.4608 | 41.3371 | 48.2782 | 50.9934 |\n",
       "| 29 | 13.1211 | 14.2565 | 16.0471 | 17.7084 | 19.7677 | 23.5666 | 28.3361 | 33.7109 | 39.0875 | 45.7223 | 42.5570 | 49.5879 | 52.3356 |\n",
       "| 30 | 13.7867 | 14.9535 | 16.7908 | 18.4927 | 20.5992 | 24.4776 | 29.3360 | 34.7997 | 40.2560 | 46.9792 | 43.7730 | 50.8922 | 53.6720 |\n",
       "| 31 | 14.4578 | 15.6555 | 17.5387 | 19.2806 | 21.4336 | 25.3901 | 30.3359 | 35.8871 | 41.4217 | 48.2319 | 44.9853 | 52.1914 | 55.0027 |\n",
       "| 32 | 15.1340 | 16.3622 | 18.2908 | 20.0719 | 22.2706 | 26.3041 | 31.3359 | 36.9730 | 42.5847 | 49.4804 | 46.1943 | 53.4858 | 56.3281 |\n",
       "| 33 | 15.8153 | 17.0735 | 19.0467 | 20.8665 | 23.1102 | 27.2194 | 32.3358 | 38.0575 | 43.7452 | 50.7251 | 47.3999 | 54.7755 | 57.6484 |\n",
       "| 34 | 16.5013 | 17.7891 | 19.8063 | 21.6643 | 23.9523 | 28.1361 | 33.3357 | 39.1408 | 44.9032 | 51.9660 | 48.6024 | 56.0609 | 58.9639 |\n",
       "| 35 | 17.1918 | 18.5089 | 20.5694 | 22.4650 | 24.7967 | 29.0540 | 34.3356 | 40.2228 | 46.0588 | 53.2033 | 49.8018 | 57.3421 | 60.2748 |\n",
       "| 36 | 17.8867 | 19.2327 | 21.3359 | 23.2686 | 25.6433 | 29.9730 | 35.3356 | 41.3036 | 47.2122 | 54.4373 | 50.9985 | 58.6192 | 61.5812 |\n",
       "| 37 | 18.5858 | 19.9602 | 22.1056 | 24.0749 | 26.4921 | 30.8933 | 36.3355 | 42.3833 | 48.3634 | 55.6680 | 52.1923 | 59.8925 | 62.8833 |\n",
       "| 38 | 19.2889 | 20.6914 | 22.8785 | 24.8839 | 27.3430 | 31.8146 | 37.3355 | 43.4619 | 49.5126 | 56.8955 | 53.3835 | 61.1621 | 64.1814 |\n",
       "| 39 | 19.9959 | 21.4262 | 23.6543 | 25.6954 | 28.1958 | 32.7369 | 38.3354 | 44.5395 | 50.6598 | 58.1201 | 54.5722 | 62.4281 | 65.4756 |\n",
       "| 40 | 20.7065 | 22.1643 | 24.4330 | 26.5093 | 29.0505 | 33.6603 | 39.3353 | 45.6160 | 51.8051 | 59.3417 | 55.7585 | 63.6907 | 66.7660 |\n",
       "| 41 | 21.4208 | 22.9056 | 25.2145 | 27.3256 | 29.9071 | 34.5846 | 40.3353 | 46.6916 | 52.9485 | 60.5606 | 56.9424 | 64.9501 | 68.0527 |\n",
       "| 42 | 22.1385 | 23.6501 | 25.9987 | 28.1440 | 30.7654 | 35.5099 | 41.3352 | 47.7663 | 54.0902 | 61.7768 | 58.1240 | 66.2062 | 69.3360 |\n",
       "| 43 | 22.8595 | 24.3976 | 26.7854 | 28.9647 | 31.6255 | 36.4361 | 42.3352 | 48.8400 | 55.2302 | 62.9904 | 59.3035 | 67.4593 | 70.6159 |\n",
       "| 44 | 23.5837 | 25.1480 | 27.5746 | 29.7875 | 32.4871 | 37.3631 | 43.3352 | 49.9129 | 56.3685 | 64.2015 | 60.4809 | 68.7095 | 71.8926 |\n",
       "| 45 | 24.3110 | 25.9013 | 28.3662 | 30.6123 | 33.3504 | 38.2910 | 44.3351 | 50.9849 | 57.5053 | 65.4102 | 61.6562 | 69.9568 | 73.1661 |\n",
       "| 46 | 25.0413 | 26.6572 | 29.1601 | 31.4390 | 34.2152 | 39.2197 | 45.3351 | 52.0562 | 58.6405 | 66.6165 | 62.8296 | 71.2014 | 74.4365 |\n",
       "| 47 | 25.7746 | 27.4158 | 29.9562 | 32.2676 | 35.0814 | 40.1492 | 46.3350 | 53.1267 | 59.7743 | 67.8206 | 64.0011 | 72.4433 | 75.7041 |\n",
       "| 48 | 26.5106 | 28.1770 | 30.7545 | 33.0981 | 35.9491 | 41.0794 | 47.3350 | 54.1964 | 60.9066 | 69.0226 | 65.1708 | 73.6826 | 76.9688 |\n",
       "| 49 | 27.2493 | 28.9406 | 31.5549 | 33.9303 | 36.8182 | 42.0104 | 48.3350 | 55.2653 | 62.0375 | 70.2224 | 66.3386 | 74.9195 | 78.2307 |\n",
       "| 50 | 27.9907 | 29.7067 | 32.3574 | 34.7643 | 37.6886 | 42.9421 | 49.3349 | 56.3336 | 63.1671 | 71.4202 | 67.5048 | 76.1539 | 79.4900 |\n",
       "\n"
      ],
      "text/plain": [
       "   0.005   0.010   0.025   0.050   0.100   0.250   0.500   0.750   0.900  \n",
       " 1  0.0000  0.0002  0.0010  0.0039  0.0158  0.1015  0.4549  1.3233  2.7055\n",
       " 2  0.0100  0.0201  0.0506  0.1026  0.2107  0.5754  1.3863  2.7726  4.6052\n",
       " 3  0.0717  0.1148  0.2158  0.3518  0.5844  1.2125  2.3660  4.1083  6.2514\n",
       " 4  0.2070  0.2971  0.4844  0.7107  1.0636  1.9226  3.3567  5.3853  7.7794\n",
       " 5  0.4117  0.5543  0.8312  1.1455  1.6103  2.6746  4.3515  6.6257  9.2364\n",
       " 6  0.6757  0.8721  1.2373  1.6354  2.2041  3.4546  5.3481  7.8408 10.6446\n",
       " 7  0.9893  1.2390  1.6899  2.1673  2.8331  4.2549  6.3458  9.0371 12.0170\n",
       " 8  1.3444  1.6465  2.1797  2.7326  3.4895  5.0706  7.3441 10.2189 13.3616\n",
       " 9  1.7349  2.0879  2.7004  3.3251  4.1682  5.8988  8.3428 11.3888 14.6837\n",
       "10  2.1559  2.5582  3.2470  3.9403  4.8652  6.7372  9.3418 12.5489 15.9872\n",
       "11  2.6032  3.0535  3.8157  4.5748  5.5778  7.5841 10.3410 13.7007 17.2750\n",
       "12  3.0738  3.5706  4.4038  5.2260  6.3038  8.4384 11.3403 14.8454 18.5493\n",
       "13  3.5650  4.1069  5.0088  5.8919  7.0415  9.2991 12.3398 15.9839 19.8119\n",
       "14  4.0747  4.6604  5.6287  6.5706  7.7895 10.1653 13.3393 17.1169 21.0641\n",
       "15  4.6009  5.2293  6.2621  7.2609  8.5468 11.0365 14.3389 18.2451 22.3071\n",
       "16  5.1422  5.8122  6.9077  7.9616  9.3122 11.9122 15.3385 19.3689 23.5418\n",
       "17  5.6972  6.4078  7.5642  8.6718 10.0852 12.7919 16.3382 20.4887 24.7690\n",
       "18  6.2648  7.0149  8.2307  9.3905 10.8649 13.6753 17.3379 21.6049 25.9894\n",
       "19  6.8440  7.6327  8.9065 10.1170 11.6509 14.5620 18.3377 22.7178 27.2036\n",
       "20  7.4338  8.2604  9.5908 10.8508 12.4426 15.4518 19.3374 23.8277 28.4120\n",
       "21  8.0337  8.8972 10.2829 11.5913 13.2396 16.3444 20.3372 24.9348 29.6151\n",
       "22  8.6427  9.5425 10.9823 12.3380 14.0415 17.2396 21.3370 26.0393 30.8133\n",
       "23  9.2604 10.1957 11.6886 13.0905 14.8480 18.1373 22.3369 27.1413 32.0069\n",
       "24  9.8862 10.8564 12.4012 13.8484 15.6587 19.0373 23.3367 28.2412 33.1962\n",
       "25 10.5197 11.5240 13.1197 14.6114 16.4734 19.9393 24.3366 29.3389 34.3816\n",
       "26 11.1602 12.1981 13.8439 15.3792 17.2919 20.8434 25.3365 30.4346 35.5632\n",
       "27 11.8076 12.8785 14.5734 16.1514 18.1139 21.7494 26.3363 31.5284 36.7412\n",
       "28 12.4613 13.5647 15.3079 16.9279 18.9392 22.6572 27.3362 32.6205 37.9159\n",
       "29 13.1211 14.2565 16.0471 17.7084 19.7677 23.5666 28.3361 33.7109 39.0875\n",
       "30 13.7867 14.9535 16.7908 18.4927 20.5992 24.4776 29.3360 34.7997 40.2560\n",
       "31 14.4578 15.6555 17.5387 19.2806 21.4336 25.3901 30.3359 35.8871 41.4217\n",
       "32 15.1340 16.3622 18.2908 20.0719 22.2706 26.3041 31.3359 36.9730 42.5847\n",
       "33 15.8153 17.0735 19.0467 20.8665 23.1102 27.2194 32.3358 38.0575 43.7452\n",
       "34 16.5013 17.7891 19.8063 21.6643 23.9523 28.1361 33.3357 39.1408 44.9032\n",
       "35 17.1918 18.5089 20.5694 22.4650 24.7967 29.0540 34.3356 40.2228 46.0588\n",
       "36 17.8867 19.2327 21.3359 23.2686 25.6433 29.9730 35.3356 41.3036 47.2122\n",
       "37 18.5858 19.9602 22.1056 24.0749 26.4921 30.8933 36.3355 42.3833 48.3634\n",
       "38 19.2889 20.6914 22.8785 24.8839 27.3430 31.8146 37.3355 43.4619 49.5126\n",
       "39 19.9959 21.4262 23.6543 25.6954 28.1958 32.7369 38.3354 44.5395 50.6598\n",
       "40 20.7065 22.1643 24.4330 26.5093 29.0505 33.6603 39.3353 45.6160 51.8051\n",
       "41 21.4208 22.9056 25.2145 27.3256 29.9071 34.5846 40.3353 46.6916 52.9485\n",
       "42 22.1385 23.6501 25.9987 28.1440 30.7654 35.5099 41.3352 47.7663 54.0902\n",
       "43 22.8595 24.3976 26.7854 28.9647 31.6255 36.4361 42.3352 48.8400 55.2302\n",
       "44 23.5837 25.1480 27.5746 29.7875 32.4871 37.3631 43.3352 49.9129 56.3685\n",
       "45 24.3110 25.9013 28.3662 30.6123 33.3504 38.2910 44.3351 50.9849 57.5053\n",
       "46 25.0413 26.6572 29.1601 31.4390 34.2152 39.2197 45.3351 52.0562 58.6405\n",
       "47 25.7746 27.4158 29.9562 32.2676 35.0814 40.1492 46.3350 53.1267 59.7743\n",
       "48 26.5106 28.1770 30.7545 33.0981 35.9491 41.0794 47.3350 54.1964 60.9066\n",
       "49 27.2493 28.9406 31.5549 33.9303 36.8182 42.0104 48.3350 55.2653 62.0375\n",
       "50 27.9907 29.7067 32.3574 34.7643 37.6886 42.9421 49.3349 56.3336 63.1671\n",
       "   0.975   0.950   0.990   0.995  \n",
       " 1  5.0239  3.8415  6.6349  7.8794\n",
       " 2  7.3778  5.9915  9.2103 10.5966\n",
       " 3  9.3484  7.8147 11.3449 12.8382\n",
       " 4 11.1433  9.4877 13.2767 14.8603\n",
       " 5 12.8325 11.0705 15.0863 16.7496\n",
       " 6 14.4494 12.5916 16.8119 18.5476\n",
       " 7 16.0128 14.0671 18.4753 20.2777\n",
       " 8 17.5345 15.5073 20.0902 21.9550\n",
       " 9 19.0228 16.9190 21.6660 23.5894\n",
       "10 20.4832 18.3070 23.2093 25.1882\n",
       "11 21.9200 19.6751 24.7250 26.7568\n",
       "12 23.3367 21.0261 26.2170 28.2995\n",
       "13 24.7356 22.3620 27.6882 29.8195\n",
       "14 26.1189 23.6848 29.1412 31.3193\n",
       "15 27.4884 24.9958 30.5779 32.8013\n",
       "16 28.8454 26.2962 31.9999 34.2672\n",
       "17 30.1910 27.5871 33.4087 35.7185\n",
       "18 31.5264 28.8693 34.8053 37.1565\n",
       "19 32.8523 30.1435 36.1909 38.5823\n",
       "20 34.1696 31.4104 37.5662 39.9968\n",
       "21 35.4789 32.6706 38.9322 41.4011\n",
       "22 36.7807 33.9244 40.2894 42.7957\n",
       "23 38.0756 35.1725 41.6384 44.1813\n",
       "24 39.3641 36.4150 42.9798 45.5585\n",
       "25 40.6465 37.6525 44.3141 46.9279\n",
       "26 41.9232 38.8851 45.6417 48.2899\n",
       "27 43.1945 40.1133 46.9629 49.6449\n",
       "28 44.4608 41.3371 48.2782 50.9934\n",
       "29 45.7223 42.5570 49.5879 52.3356\n",
       "30 46.9792 43.7730 50.8922 53.6720\n",
       "31 48.2319 44.9853 52.1914 55.0027\n",
       "32 49.4804 46.1943 53.4858 56.3281\n",
       "33 50.7251 47.3999 54.7755 57.6484\n",
       "34 51.9660 48.6024 56.0609 58.9639\n",
       "35 53.2033 49.8018 57.3421 60.2748\n",
       "36 54.4373 50.9985 58.6192 61.5812\n",
       "37 55.6680 52.1923 59.8925 62.8833\n",
       "38 56.8955 53.3835 61.1621 64.1814\n",
       "39 58.1201 54.5722 62.4281 65.4756\n",
       "40 59.3417 55.7585 63.6907 66.7660\n",
       "41 60.5606 56.9424 64.9501 68.0527\n",
       "42 61.7768 58.1240 66.2062 69.3360\n",
       "43 62.9904 59.3035 67.4593 70.6159\n",
       "44 64.2015 60.4809 68.7095 71.8926\n",
       "45 65.4102 61.6562 69.9568 73.1661\n",
       "46 66.6165 62.8296 71.2014 74.4365\n",
       "47 67.8206 64.0011 72.4433 75.7041\n",
       "48 69.0226 65.1708 73.6826 76.9688\n",
       "49 70.2224 66.3386 74.9195 78.2307\n",
       "50 71.4202 67.5048 76.1539 79.4900"
      ]
     },
     "metadata": {},
     "output_type": "display_data"
    }
   ],
   "source": [
    "p <- c(0.005, 0.01, 0.025, 0.05, 0.1, 0.25, 0.5, 0.75, 0.9, 0.975, 0.95, 0.99, 0.995)\n",
    "df <- seq(1, 50, by = 1)\n",
    "probabilidade <- c()\n",
    "for(i in df){\n",
    "    for(j in p){\n",
    "        probabilidade <- c(probabilidade, round(qchisq(j, i, lower.tail = T), 4))\n",
    "    }\n",
    "}\n",
    "tabela_chi_2 <- matrix(probabilidade, ncol=13, byrow=TRUE)\n",
    "colnames(tabela_chi_2) <- format(p)\n",
    "rownames(tabela_chi_2) <- format(df)\n",
    "tabela_chi_2"
   ]
  },
  {
   "cell_type": "markdown",
   "id": "73a548b3",
   "metadata": {},
   "source": [
    "<font size=3 color=blue> <b> Passo 3 - Calcular Estatística Teste </b></font><br>"
   ]
  },
  {
   "cell_type": "code",
   "execution_count": 48,
   "id": "8081f210",
   "metadata": {},
   "outputs": [
    {
     "data": {
      "text/plain": [
       "   \n",
       "     0  1  2  3  4  5  6  7  8  9 10 11 12 13 14 15 17\n",
       "  1  0  1  0  0  0  0  0  0  0  0  0  0  0  0  0  0  0\n",
       "  2  3 17  9  5  4  1  2  1  0  1  0  0  0  1  0  0  0\n",
       "  3  7 22 16 11  7  4  5  5  3  1  1  1  1  1  0  0  0\n",
       "  4 46 53 39 29 16 16 12 14 11  9  5  4  4  1  1  1  1"
      ]
     },
     "metadata": {},
     "output_type": "display_data"
    }
   ],
   "source": [
    "table_preg_bmi <- table(dados_limpos$Cat.BMI, dados_limpos$Pregnancies)\n",
    "table_preg_bmi"
   ]
  },
  {
   "cell_type": "code",
   "execution_count": 49,
   "id": "28ea6c6f",
   "metadata": {},
   "outputs": [
    {
     "data": {
      "text/plain": [
       "   \n",
       "     0  1  2  3  4  5  6  7  8  9 10 11 12 13 14 15 17\n",
       "  0 37 73 52 26 21 13 15 10  3  5  3  0  2  2  0  0  0\n",
       "  1 19 20 12 19  6  8  4 10 11  6  3  5  3  1  1  1  1"
      ]
     },
     "metadata": {},
     "output_type": "display_data"
    }
   ],
   "source": [
    "table_preg_out <- table(dados_limpos$Outcome, dados_limpos$Pregnancies)\n",
    "table_preg_out"
   ]
  },
  {
   "cell_type": "markdown",
   "id": "0ccebceb",
   "metadata": {},
   "source": [
    "<font color=green size=3> <b> 4.1 - Teste do Qui-Quadrado ( $\\chi^2$) </b> </font> "
   ]
  },
  {
   "cell_type": "markdown",
   "id": "396827b7",
   "metadata": {},
   "source": [
    "#### Pregnancies e BMI"
   ]
  },
  {
   "cell_type": "code",
   "execution_count": 50,
   "id": "2dee4d83",
   "metadata": {},
   "outputs": [
    {
     "name": "stderr",
     "output_type": "stream",
     "text": [
      "Warning message in chisq.test(table_preg_bmi):\n",
      "\"Chi-squared approximation may be incorrect\"\n"
     ]
    },
    {
     "data": {
      "text/plain": [
       "\n",
       "\tPearson's Chi-squared test\n",
       "\n",
       "data:  table_preg_bmi\n",
       "X-squared = 27.914, df = 48, p-value = 0.991\n"
      ]
     },
     "metadata": {},
     "output_type": "display_data"
    }
   ],
   "source": [
    "result_chi_test <- chisq.test(table_preg_bmi)\n",
    "result_chi_test"
   ]
  },
  {
   "cell_type": "markdown",
   "id": "e2f5ec7c",
   "metadata": {},
   "source": [
    "#### Pregnancies e Outcome"
   ]
  },
  {
   "cell_type": "code",
   "execution_count": 51,
   "id": "93fc3142",
   "metadata": {},
   "outputs": [
    {
     "name": "stderr",
     "output_type": "stream",
     "text": [
      "Warning message in chisq.test(table_preg_out):\n",
      "\"Chi-squared approximation may be incorrect\"\n"
     ]
    },
    {
     "data": {
      "text/plain": [
       "\n",
       "\tPearson's Chi-squared test\n",
       "\n",
       "data:  table_preg_out\n",
       "X-squared = 52.693, df = 16, p-value = 0.000008463\n"
      ]
     },
     "metadata": {},
     "output_type": "display_data"
    }
   ],
   "source": [
    "result_chi_test_2 <- chisq.test(table_preg_out)\n",
    "result_chi_test_2"
   ]
  },
  {
   "cell_type": "markdown",
   "id": "9a40f338",
   "metadata": {},
   "source": [
    "<font size=3 color=blue> <b> Passo 4 - Aceitar ou rejeitar Hipótese Nula </b></font>"
   ]
  },
  {
   "cell_type": "code",
   "execution_count": 52,
   "id": "4e59b937",
   "metadata": {},
   "outputs": [
    {
     "data": {
      "text/html": [
       "<table class=\"dataframe\">\n",
       "<caption>A matrix: 3 × 13 of type dbl</caption>\n",
       "<thead>\n",
       "\t<tr><th></th><th scope=col>0.005</th><th scope=col>0.010</th><th scope=col>0.025</th><th scope=col>0.050</th><th scope=col>0.100</th><th scope=col>0.250</th><th scope=col>0.500</th><th scope=col>0.750</th><th scope=col>0.900</th><th scope=col>0.975</th><th scope=col>0.950</th><th scope=col>0.990</th><th scope=col>0.995</th></tr>\n",
       "</thead>\n",
       "<tbody>\n",
       "\t<tr><th scope=row>47</th><td>25.7746</td><td>27.4158</td><td>29.9562</td><td>32.2676</td><td>35.0814</td><td>40.1492</td><td>46.335</td><td>53.1267</td><td>59.7743</td><td>67.8206</td><td>64.0011</td><td>72.4433</td><td>75.7041</td></tr>\n",
       "\t<tr><th scope=row>48</th><td>26.5106</td><td>28.1770</td><td>30.7545</td><td>33.0981</td><td>35.9491</td><td>41.0794</td><td>47.335</td><td>54.1964</td><td>60.9066</td><td>69.0226</td><td>65.1708</td><td>73.6826</td><td>76.9688</td></tr>\n",
       "\t<tr><th scope=row>49</th><td>27.2493</td><td>28.9406</td><td>31.5549</td><td>33.9303</td><td>36.8182</td><td>42.0104</td><td>48.335</td><td>55.2653</td><td>62.0375</td><td>70.2224</td><td>66.3386</td><td>74.9195</td><td>78.2307</td></tr>\n",
       "</tbody>\n",
       "</table>\n"
      ],
      "text/latex": [
       "A matrix: 3 × 13 of type dbl\n",
       "\\begin{tabular}{r|lllllllllllll}\n",
       "  & 0.005 & 0.010 & 0.025 & 0.050 & 0.100 & 0.250 & 0.500 & 0.750 & 0.900 & 0.975 & 0.950 & 0.990 & 0.995\\\\\n",
       "\\hline\n",
       "\t47 & 25.7746 & 27.4158 & 29.9562 & 32.2676 & 35.0814 & 40.1492 & 46.335 & 53.1267 & 59.7743 & 67.8206 & 64.0011 & 72.4433 & 75.7041\\\\\n",
       "\t48 & 26.5106 & 28.1770 & 30.7545 & 33.0981 & 35.9491 & 41.0794 & 47.335 & 54.1964 & 60.9066 & 69.0226 & 65.1708 & 73.6826 & 76.9688\\\\\n",
       "\t49 & 27.2493 & 28.9406 & 31.5549 & 33.9303 & 36.8182 & 42.0104 & 48.335 & 55.2653 & 62.0375 & 70.2224 & 66.3386 & 74.9195 & 78.2307\\\\\n",
       "\\end{tabular}\n"
      ],
      "text/markdown": [
       "\n",
       "A matrix: 3 × 13 of type dbl\n",
       "\n",
       "| <!--/--> | 0.005 | 0.010 | 0.025 | 0.050 | 0.100 | 0.250 | 0.500 | 0.750 | 0.900 | 0.975 | 0.950 | 0.990 | 0.995 |\n",
       "|---|---|---|---|---|---|---|---|---|---|---|---|---|---|\n",
       "| 47 | 25.7746 | 27.4158 | 29.9562 | 32.2676 | 35.0814 | 40.1492 | 46.335 | 53.1267 | 59.7743 | 67.8206 | 64.0011 | 72.4433 | 75.7041 |\n",
       "| 48 | 26.5106 | 28.1770 | 30.7545 | 33.0981 | 35.9491 | 41.0794 | 47.335 | 54.1964 | 60.9066 | 69.0226 | 65.1708 | 73.6826 | 76.9688 |\n",
       "| 49 | 27.2493 | 28.9406 | 31.5549 | 33.9303 | 36.8182 | 42.0104 | 48.335 | 55.2653 | 62.0375 | 70.2224 | 66.3386 | 74.9195 | 78.2307 |\n",
       "\n"
      ],
      "text/plain": [
       "   0.005   0.010   0.025   0.050   0.100   0.250   0.500  0.750   0.900  \n",
       "47 25.7746 27.4158 29.9562 32.2676 35.0814 40.1492 46.335 53.1267 59.7743\n",
       "48 26.5106 28.1770 30.7545 33.0981 35.9491 41.0794 47.335 54.1964 60.9066\n",
       "49 27.2493 28.9406 31.5549 33.9303 36.8182 42.0104 48.335 55.2653 62.0375\n",
       "   0.975   0.950   0.990   0.995  \n",
       "47 67.8206 64.0011 72.4433 75.7041\n",
       "48 69.0226 65.1708 73.6826 76.9688\n",
       "49 70.2224 66.3386 74.9195 78.2307"
      ]
     },
     "metadata": {},
     "output_type": "display_data"
    }
   ],
   "source": [
    "tabela_chi_2[47:49, ]"
   ]
  },
  {
   "cell_type": "code",
   "execution_count": 53,
   "id": "41fc404b",
   "metadata": {},
   "outputs": [
    {
     "data": {
      "text/html": [
       "<table class=\"dataframe\">\n",
       "<caption>A matrix: 2 × 13 of type dbl</caption>\n",
       "<thead>\n",
       "\t<tr><th></th><th scope=col>0.005</th><th scope=col>0.010</th><th scope=col>0.025</th><th scope=col>0.050</th><th scope=col>0.100</th><th scope=col>0.250</th><th scope=col>0.500</th><th scope=col>0.750</th><th scope=col>0.900</th><th scope=col>0.975</th><th scope=col>0.950</th><th scope=col>0.990</th><th scope=col>0.995</th></tr>\n",
       "</thead>\n",
       "<tbody>\n",
       "\t<tr><th scope=row>16</th><td>5.1422</td><td>5.8122</td><td>6.9077</td><td>7.9616</td><td> 9.3122</td><td>11.9122</td><td>15.3385</td><td>19.3689</td><td>23.5418</td><td>28.8454</td><td>26.2962</td><td>31.9999</td><td>34.2672</td></tr>\n",
       "\t<tr><th scope=row>17</th><td>5.6972</td><td>6.4078</td><td>7.5642</td><td>8.6718</td><td>10.0852</td><td>12.7919</td><td>16.3382</td><td>20.4887</td><td>24.7690</td><td>30.1910</td><td>27.5871</td><td>33.4087</td><td>35.7185</td></tr>\n",
       "</tbody>\n",
       "</table>\n"
      ],
      "text/latex": [
       "A matrix: 2 × 13 of type dbl\n",
       "\\begin{tabular}{r|lllllllllllll}\n",
       "  & 0.005 & 0.010 & 0.025 & 0.050 & 0.100 & 0.250 & 0.500 & 0.750 & 0.900 & 0.975 & 0.950 & 0.990 & 0.995\\\\\n",
       "\\hline\n",
       "\t16 & 5.1422 & 5.8122 & 6.9077 & 7.9616 &  9.3122 & 11.9122 & 15.3385 & 19.3689 & 23.5418 & 28.8454 & 26.2962 & 31.9999 & 34.2672\\\\\n",
       "\t17 & 5.6972 & 6.4078 & 7.5642 & 8.6718 & 10.0852 & 12.7919 & 16.3382 & 20.4887 & 24.7690 & 30.1910 & 27.5871 & 33.4087 & 35.7185\\\\\n",
       "\\end{tabular}\n"
      ],
      "text/markdown": [
       "\n",
       "A matrix: 2 × 13 of type dbl\n",
       "\n",
       "| <!--/--> | 0.005 | 0.010 | 0.025 | 0.050 | 0.100 | 0.250 | 0.500 | 0.750 | 0.900 | 0.975 | 0.950 | 0.990 | 0.995 |\n",
       "|---|---|---|---|---|---|---|---|---|---|---|---|---|---|\n",
       "| 16 | 5.1422 | 5.8122 | 6.9077 | 7.9616 |  9.3122 | 11.9122 | 15.3385 | 19.3689 | 23.5418 | 28.8454 | 26.2962 | 31.9999 | 34.2672 |\n",
       "| 17 | 5.6972 | 6.4078 | 7.5642 | 8.6718 | 10.0852 | 12.7919 | 16.3382 | 20.4887 | 24.7690 | 30.1910 | 27.5871 | 33.4087 | 35.7185 |\n",
       "\n"
      ],
      "text/plain": [
       "   0.005  0.010  0.025  0.050  0.100   0.250   0.500   0.750   0.900   0.975  \n",
       "16 5.1422 5.8122 6.9077 7.9616  9.3122 11.9122 15.3385 19.3689 23.5418 28.8454\n",
       "17 5.6972 6.4078 7.5642 8.6718 10.0852 12.7919 16.3382 20.4887 24.7690 30.1910\n",
       "   0.950   0.990   0.995  \n",
       "16 26.2962 31.9999 34.2672\n",
       "17 27.5871 33.4087 35.7185"
      ]
     },
     "metadata": {},
     "output_type": "display_data"
    }
   ],
   "source": [
    "tabela_chi_2[16:17, ]"
   ]
  },
  {
   "cell_type": "markdown",
   "id": "5d16d32d",
   "metadata": {},
   "source": [
    "<font size=2 color=red> <b> Critério do valor crítico </b></font>\n",
    "> ### Rejeitar $H_0$ se $\\chi_{teste}^2 > \\chi_{\\alpha}^2$"
   ]
  },
  {
   "cell_type": "code",
   "execution_count": 54,
   "id": "9aa019c1",
   "metadata": {},
   "outputs": [
    {
     "data": {
      "text/html": [
       "<strong>X-squared:</strong> FALSE"
      ],
      "text/latex": [
       "\\textbf{X-squared:} FALSE"
      ],
      "text/markdown": [
       "**X-squared:** FALSE"
      ],
      "text/plain": [
       "X-squared \n",
       "    FALSE "
      ]
     },
     "metadata": {},
     "output_type": "display_data"
    }
   ],
   "source": [
    "result_chi_test$statistic > 73.6826"
   ]
  },
  {
   "cell_type": "code",
   "execution_count": 55,
   "id": "1bef9f35",
   "metadata": {},
   "outputs": [
    {
     "data": {
      "text/html": [
       "<strong>X-squared:</strong> TRUE"
      ],
      "text/latex": [
       "\\textbf{X-squared:} TRUE"
      ],
      "text/markdown": [
       "**X-squared:** TRUE"
      ],
      "text/plain": [
       "X-squared \n",
       "     TRUE "
      ]
     },
     "metadata": {},
     "output_type": "display_data"
    }
   ],
   "source": [
    "result_chi_test_2$statistic > 31.9999"
   ]
  },
  {
   "cell_type": "markdown",
   "id": "686c43d2",
   "metadata": {},
   "source": [
    "### <font color='red'>Critério do valor $p$</font>\n",
    "> ### Rejeitar $H_0$ se o valor $p\\leq\\alpha$\n"
   ]
  },
  {
   "cell_type": "code",
   "execution_count": 96,
   "id": "3f9432fb",
   "metadata": {},
   "outputs": [
    {
     "data": {
      "text/html": [
       "'Não rejeita Hippótese Nula | p-value: 0.990985 | ou seja, há independência entre as variáveis'"
      ],
      "text/latex": [
       "'Não rejeita Hippótese Nula \\textbar{} p-value: 0.990985 \\textbar{} ou seja, há independência entre as variáveis'"
      ],
      "text/markdown": [
       "'Não rejeita Hippótese Nula | p-value: 0.990985 | ou seja, há independência entre as variáveis'"
      ],
      "text/plain": [
       "[1] \"Não rejeita Hippótese Nula | p-value: 0.990985 | ou seja, há independência entre as variáveis\""
      ]
     },
     "metadata": {},
     "output_type": "display_data"
    }
   ],
   "source": [
    "if(result_chi_test$p.value <= sig){\n",
    "    sprintf(\"Rejeita Hipótese Nula, |p-value: %f | ou seja, há dependência entre as variáveis.\", result_chi_test$p.value)\n",
    "}else{\n",
    "    sprintf(\"Não rejeita Hippótese Nula | p-value: %f | ou seja, há independência entre as variáveis\", result_chi_test$p.value)\n",
    "}"
   ]
  },
  {
   "cell_type": "code",
   "execution_count": 95,
   "id": "33433d69",
   "metadata": {},
   "outputs": [
    {
     "data": {
      "text/html": [
       "'Rejeita Hipótese Nula, |p-value: 0.000008 | ou seja, há dependência entre as variáveis.'"
      ],
      "text/latex": [
       "'Rejeita Hipótese Nula, \\textbar{}p-value: 0.000008 \\textbar{} ou seja, há dependência entre as variáveis.'"
      ],
      "text/markdown": [
       "'Rejeita Hipótese Nula, |p-value: 0.000008 | ou seja, há dependência entre as variáveis.'"
      ],
      "text/plain": [
       "[1] \"Rejeita Hipótese Nula, |p-value: 0.000008 | ou seja, há dependência entre as variáveis.\""
      ]
     },
     "metadata": {},
     "output_type": "display_data"
    }
   ],
   "source": [
    "if(result_chi_test_2$p.value <= sig){\n",
    "    sprintf(\"Rejeita Hipótese Nula, |p-value: %f | ou seja, há dependência entre as variáveis.\", result_chi_test_2$p.value)\n",
    "}else{\n",
    "    sprintf(\"Não rejeita Hippótese Nula | p-value: %f | ou seja, há independência entre as variáveis\", result_chi_test_2$p.value)\n",
    "}"
   ]
  },
  {
   "cell_type": "markdown",
   "id": "ebb829f7",
   "metadata": {},
   "source": [
    "<font size=3 color=green> <b> Conclusão 1: com um nível de confiança de 99% há evidências para NÃO rejeitar a hipótese nula de que há independência entre as variáveis Pregnancies e BMI. </b></font> <br> <br>\n",
    "<font size=3 color=green> <b> Conclusão 2: com um nível de confiança de 99% há evidências para rejeitar a hipótese nula de que há independência entre as variáveis Pregnancies e Outcome (Presença/Ausencia de Diabetes). </b></font>\n",
    "<hr>"
   ]
  },
  {
   "cell_type": "markdown",
   "id": "fafbf48b",
   "metadata": {},
   "source": [
    "<font size=4 color=green> <b> ANOVA </b> </font>\n"
   ]
  },
  {
   "cell_type": "markdown",
   "id": "66ec7df1",
   "metadata": {},
   "source": [
    "$H_0$ = Não existe diferença entre a espessura da pele nos grupos de IMC <br>\n",
    "$H_1$ = Há pelo menos um grupo diferente"
   ]
  },
  {
   "cell_type": "code",
   "execution_count": 58,
   "id": "fe14a95c",
   "metadata": {},
   "outputs": [
    {
     "data": {
      "text/plain": [
       "                    Df Sum Sq Mean Sq F value              Pr(>F)    \n",
       "as.factor(Cat.BMI)   3  14259    4753   63.63 <0.0000000000000002 ***\n",
       "Residuals          388  28983      75                                \n",
       "---\n",
       "Signif. codes:  0 '***' 0.001 '**' 0.01 '*' 0.05 '.' 0.1 ' ' 1"
      ]
     },
     "metadata": {},
     "output_type": "display_data"
    }
   ],
   "source": [
    "anova1 <- aov(data=dados_limpos, SkinThickness ~as.factor(Cat.BMI))\n",
    "summary(anova1) "
   ]
  },
  {
   "cell_type": "code",
   "execution_count": 59,
   "id": "fe1c462a",
   "metadata": {},
   "outputs": [
    {
     "data": {
      "text/html": [
       "3.83245741189835"
      ],
      "text/latex": [
       "3.83245741189835"
      ],
      "text/markdown": [
       "3.83245741189835"
      ],
      "text/plain": [
       "[1] 3.832457"
      ]
     },
     "metadata": {},
     "output_type": "display_data"
    }
   ],
   "source": [
    "#F tabelado\n",
    "qf(0.99, df1=3, df2=388)"
   ]
  },
  {
   "cell_type": "code",
   "execution_count": 60,
   "id": "fbada150",
   "metadata": {},
   "outputs": [
    {
     "data": {
      "text/plain": [
       "  Tukey multiple comparisons of means\n",
       "    99% family-wise confidence level\n",
       "\n",
       "Fit: aov(formula = SkinThickness ~ as.factor(Cat.BMI), data = dados_limpos)\n",
       "\n",
       "$`as.factor(Cat.BMI)`\n",
       "         diff         lwr      upr     p adj\n",
       "2-1 -1.636364 -29.0259280 25.75320 0.9976696\n",
       "3-1  3.647059 -23.5953163 30.88943 0.9751283\n",
       "4-1 14.270992 -12.8641707 41.40616 0.3529629\n",
       "3-2  5.283422   0.2534656 10.31338 0.0059680\n",
       "4-2 15.907356  11.4948132 20.31990 0.0000000\n",
       "4-3 10.623934   7.2432086 14.00466 0.0000000\n"
      ]
     },
     "metadata": {},
     "output_type": "display_data"
    }
   ],
   "source": [
    "TukeyHSD(anova1, conf.level = 0.99)"
   ]
  },
  {
   "cell_type": "code",
   "execution_count": 61,
   "id": "b8340510",
   "metadata": {},
   "outputs": [
    {
     "data": {
      "image/png": "[encoded data removed]",
      "text/plain": [
       "Plot with title \"99% family-wise confidence level\n",
       "\""
      ]
     },
     "metadata": {
      "image/png": {
       "height": 300,
       "width": 600
      }
     },
     "output_type": "display_data"
    }
   ],
   "source": [
    "options(repr.plot.width = 10, repr.plot.height = 5)\n",
    "plot(TukeyHSD(anova1, conf.level = 0.99))"
   ]
  },
  {
   "cell_type": "markdown",
   "id": "875bbd5a",
   "metadata": {},
   "source": [
    "<font size=3 color=green><b> Conclusão: a partir dos valores de F e de p-value apresentados pelo teste ANOVA rejeita-se $H_0$ </b> </font>\n",
    "<br>\n",
    "<p>\n",
    "A partir do gráfico, é possível observar que há diferença em três grupos.\n",
    "</p>\n",
    "<hr>"
   ]
  },
  {
   "cell_type": "markdown",
   "id": "80e83617",
   "metadata": {},
   "source": [
    "<font size=4 color=green> <b>Kruskal-Wallis</b> </font>"
   ]
  },
  {
   "cell_type": "code",
   "execution_count": 62,
   "id": "e564e430",
   "metadata": {},
   "outputs": [
    {
     "data": {
      "text/plain": [
       "\n",
       "\tKruskal-Wallis rank sum test\n",
       "\n",
       "data:  SkinThickness by Cat.BMI\n",
       "Kruskal-Wallis chi-squared = 132.38, df = 3, p-value <\n",
       "0.00000000000000022\n"
      ]
     },
     "metadata": {},
     "output_type": "display_data"
    }
   ],
   "source": [
    "kruskal.test(SkinThickness ~ Cat.BMI, data=dados_limpos)"
   ]
  },
  {
   "cell_type": "code",
   "execution_count": 63,
   "id": "c4477ee8",
   "metadata": {},
   "outputs": [
    {
     "data": {
      "text/html": [
       "0.000000000000000000000000000166013639000523"
      ],
      "text/latex": [
       "0.000000000000000000000000000166013639000523"
      ],
      "text/markdown": [
       "0.000000000000000000000000000166013639000523"
      ],
      "text/plain": [
       "[1] 0.0000000000000000000000000001660136"
      ]
     },
     "metadata": {},
     "output_type": "display_data"
    }
   ],
   "source": [
    "pchisq(132.38, df = 3, lower.tail=F)"
   ]
  },
  {
   "cell_type": "code",
   "execution_count": 64,
   "id": "d04e5b15",
   "metadata": {},
   "outputs": [
    {
     "data": {
      "text/html": [
       "11.3448667301444"
      ],
      "text/latex": [
       "11.3448667301444"
      ],
      "text/markdown": [
       "11.3448667301444"
      ],
      "text/plain": [
       "[1] 11.34487"
      ]
     },
     "metadata": {},
     "output_type": "display_data"
    },
    {
     "data": {
      "text/html": [
       "0.114831801899117"
      ],
      "text/latex": [
       "0.114831801899117"
      ],
      "text/markdown": [
       "0.114831801899117"
      ],
      "text/plain": [
       "[1] 0.1148318"
      ]
     },
     "metadata": {},
     "output_type": "display_data"
    }
   ],
   "source": [
    "qchisq(0.99, df = 3)\n",
    "qchisq(0.01, df=3)"
   ]
  },
  {
   "cell_type": "code",
   "execution_count": 65,
   "id": "8aba1d39",
   "metadata": {},
   "outputs": [
    {
     "data": {
      "text/html": [
       "<table class=\"dataframe\">\n",
       "<caption>A rstatix_test: 6 × 9</caption>\n",
       "<thead>\n",
       "\t<tr><th></th><th scope=col>.y.</th><th scope=col>group1</th><th scope=col>group2</th><th scope=col>n1</th><th scope=col>n2</th><th scope=col>statistic</th><th scope=col>p</th><th scope=col>p.adj</th><th scope=col>p.adj.signif</th></tr>\n",
       "\t<tr><th></th><th scope=col>&lt;chr&gt;</th><th scope=col>&lt;chr&gt;</th><th scope=col>&lt;chr&gt;</th><th scope=col>&lt;int&gt;</th><th scope=col>&lt;int&gt;</th><th scope=col>&lt;dbl&gt;</th><th scope=col>&lt;dbl&gt;</th><th scope=col>&lt;dbl&gt;</th><th scope=col>&lt;chr&gt;</th></tr>\n",
       "</thead>\n",
       "<tbody>\n",
       "\t<tr><th scope=row>1</th><td>SkinThickness</td><td>1</td><td>2</td><td> 1</td><td> 44</td><td>-0.1186659</td><td>0.905540039465667079277011453</td><td>1.00000000000000000000000000</td><td>ns  </td></tr>\n",
       "\t<tr><th scope=row>2</th><td>SkinThickness</td><td>1</td><td>3</td><td> 1</td><td> 85</td><td> 0.3878524</td><td>0.698125260075918463442690154</td><td>1.00000000000000000000000000</td><td>ns  </td></tr>\n",
       "\t<tr><th scope=row>3</th><td>SkinThickness</td><td>1</td><td>4</td><td> 1</td><td>262</td><td> 1.4101849</td><td>0.158485086888866144594345542</td><td>0.95091052133319686756607325</td><td>ns  </td></tr>\n",
       "\t<tr><th scope=row>4</th><td>SkinThickness</td><td>2</td><td>3</td><td>44</td><td> 85</td><td> 2.7467887</td><td>0.006018189708945990631927536</td><td>0.03610913825367594032211827</td><td>*   </td></tr>\n",
       "\t<tr><th scope=row>5</th><td>SkinThickness</td><td>2</td><td>4</td><td>44</td><td>262</td><td> 9.4085898</td><td>0.000000000000000000005028379</td><td>0.00000000000000000003017027</td><td>****</td></tr>\n",
       "\t<tr><th scope=row>6</th><td>SkinThickness</td><td>3</td><td>4</td><td>85</td><td>262</td><td> 8.1933838</td><td>0.000000000000000253982563275</td><td>0.00000000000000152389537965</td><td>****</td></tr>\n",
       "</tbody>\n",
       "</table>\n"
      ],
      "text/latex": [
       "A rstatix\\_test: 6 × 9\n",
       "\\begin{tabular}{r|lllllllll}\n",
       "  & .y. & group1 & group2 & n1 & n2 & statistic & p & p.adj & p.adj.signif\\\\\n",
       "  & <chr> & <chr> & <chr> & <int> & <int> & <dbl> & <dbl> & <dbl> & <chr>\\\\\n",
       "\\hline\n",
       "\t1 & SkinThickness & 1 & 2 &  1 &  44 & -0.1186659 & 0.905540039465667079277011453 & 1.00000000000000000000000000 & ns  \\\\\n",
       "\t2 & SkinThickness & 1 & 3 &  1 &  85 &  0.3878524 & 0.698125260075918463442690154 & 1.00000000000000000000000000 & ns  \\\\\n",
       "\t3 & SkinThickness & 1 & 4 &  1 & 262 &  1.4101849 & 0.158485086888866144594345542 & 0.95091052133319686756607325 & ns  \\\\\n",
       "\t4 & SkinThickness & 2 & 3 & 44 &  85 &  2.7467887 & 0.006018189708945990631927536 & 0.03610913825367594032211827 & *   \\\\\n",
       "\t5 & SkinThickness & 2 & 4 & 44 & 262 &  9.4085898 & 0.000000000000000000005028379 & 0.00000000000000000003017027 & ****\\\\\n",
       "\t6 & SkinThickness & 3 & 4 & 85 & 262 &  8.1933838 & 0.000000000000000253982563275 & 0.00000000000000152389537965 & ****\\\\\n",
       "\\end{tabular}\n"
      ],
      "text/markdown": [
       "\n",
       "A rstatix_test: 6 × 9\n",
       "\n",
       "| <!--/--> | .y. &lt;chr&gt; | group1 &lt;chr&gt; | group2 &lt;chr&gt; | n1 &lt;int&gt; | n2 &lt;int&gt; | statistic &lt;dbl&gt; | p &lt;dbl&gt; | p.adj &lt;dbl&gt; | p.adj.signif &lt;chr&gt; |\n",
       "|---|---|---|---|---|---|---|---|---|---|\n",
       "| 1 | SkinThickness | 1 | 2 |  1 |  44 | -0.1186659 | 0.905540039465667079277011453 | 1.00000000000000000000000000 | ns   |\n",
       "| 2 | SkinThickness | 1 | 3 |  1 |  85 |  0.3878524 | 0.698125260075918463442690154 | 1.00000000000000000000000000 | ns   |\n",
       "| 3 | SkinThickness | 1 | 4 |  1 | 262 |  1.4101849 | 0.158485086888866144594345542 | 0.95091052133319686756607325 | ns   |\n",
       "| 4 | SkinThickness | 2 | 3 | 44 |  85 |  2.7467887 | 0.006018189708945990631927536 | 0.03610913825367594032211827 | *    |\n",
       "| 5 | SkinThickness | 2 | 4 | 44 | 262 |  9.4085898 | 0.000000000000000000005028379 | 0.00000000000000000003017027 | **** |\n",
       "| 6 | SkinThickness | 3 | 4 | 85 | 262 |  8.1933838 | 0.000000000000000253982563275 | 0.00000000000000152389537965 | **** |\n",
       "\n"
      ],
      "text/plain": [
       "  .y.           group1 group2 n1 n2  statistic  p                            \n",
       "1 SkinThickness 1      2       1  44 -0.1186659 0.905540039465667079277011453\n",
       "2 SkinThickness 1      3       1  85  0.3878524 0.698125260075918463442690154\n",
       "3 SkinThickness 1      4       1 262  1.4101849 0.158485086888866144594345542\n",
       "4 SkinThickness 2      3      44  85  2.7467887 0.006018189708945990631927536\n",
       "5 SkinThickness 2      4      44 262  9.4085898 0.000000000000000000005028379\n",
       "6 SkinThickness 3      4      85 262  8.1933838 0.000000000000000253982563275\n",
       "  p.adj                        p.adj.signif\n",
       "1 1.00000000000000000000000000 ns          \n",
       "2 1.00000000000000000000000000 ns          \n",
       "3 0.95091052133319686756607325 ns          \n",
       "4 0.03610913825367594032211827 *           \n",
       "5 0.00000000000000000003017027 ****        \n",
       "6 0.00000000000000152389537965 ****        "
      ]
     },
     "metadata": {},
     "output_type": "display_data"
    }
   ],
   "source": [
    "dunn_test(SkinThickness ~ Cat.BMI, data=dados_limpos, p.adjust.method='bonferroni')"
   ]
  },
  {
   "cell_type": "code",
   "execution_count": 66,
   "id": "86f0b8df",
   "metadata": {},
   "outputs": [
    {
     "data": {
      "image/png": "[encoded data removed]",
      "text/plain": [
       "plot without title"
      ]
     },
     "metadata": {
      "image/png": {
       "height": 300,
       "width": 600
      }
     },
     "output_type": "display_data"
    }
   ],
   "source": [
    "boxplot(SkinThickness ~ Cat.BMI, data=dados_limpos)"
   ]
  },
  {
   "cell_type": "markdown",
   "id": "f4bb10cf",
   "metadata": {},
   "source": [
    "<font size=3 color=green><b> Conclusão: a partir dos valores de F e de p-value apresentados pelo teste de Kruskal-Wallis rejeita-se $H_0$ assim como identificado no teste ANOVA </b> </font>\n",
    "<hr>"
   ]
  },
  {
   "cell_type": "markdown",
   "id": "b054e346",
   "metadata": {},
   "source": [
    "<font color=green size=5> <b>5 - Regressão linear simples</b> </font> "
   ]
  },
  {
   "cell_type": "code",
   "execution_count": 67,
   "id": "1171a8fa",
   "metadata": {},
   "outputs": [
    {
     "data": {
      "text/html": [
       "<table class=\"dataframe\">\n",
       "<caption>A matrix: 4 × 4 of type dbl</caption>\n",
       "<thead>\n",
       "\t<tr><th></th><th scope=col>Pregnancies</th><th scope=col>SkinThickness</th><th scope=col>BMI</th><th scope=col>Outcome</th></tr>\n",
       "</thead>\n",
       "<tbody>\n",
       "\t<tr><th scope=row>Pregnancies</th><td> 1.00000000</td><td>0.05475868</td><td>-0.06555144</td><td>0.2002345</td></tr>\n",
       "\t<tr><th scope=row>SkinThickness</th><td> 0.05475868</td><td>1.00000000</td><td> 0.67439293</td><td>0.2601534</td></tr>\n",
       "\t<tr><th scope=row>BMI</th><td>-0.06555144</td><td>0.67439293</td><td> 1.00000000</td><td>0.2670772</td></tr>\n",
       "\t<tr><th scope=row>Outcome</th><td> 0.20023445</td><td>0.26015343</td><td> 0.26707717</td><td>1.0000000</td></tr>\n",
       "</tbody>\n",
       "</table>\n"
      ],
      "text/latex": [
       "A matrix: 4 × 4 of type dbl\n",
       "\\begin{tabular}{r|llll}\n",
       "  & Pregnancies & SkinThickness & BMI & Outcome\\\\\n",
       "\\hline\n",
       "\tPregnancies &  1.00000000 & 0.05475868 & -0.06555144 & 0.2002345\\\\\n",
       "\tSkinThickness &  0.05475868 & 1.00000000 &  0.67439293 & 0.2601534\\\\\n",
       "\tBMI & -0.06555144 & 0.67439293 &  1.00000000 & 0.2670772\\\\\n",
       "\tOutcome &  0.20023445 & 0.26015343 &  0.26707717 & 1.0000000\\\\\n",
       "\\end{tabular}\n"
      ],
      "text/markdown": [
       "\n",
       "A matrix: 4 × 4 of type dbl\n",
       "\n",
       "| <!--/--> | Pregnancies | SkinThickness | BMI | Outcome |\n",
       "|---|---|---|---|---|\n",
       "| Pregnancies |  1.00000000 | 0.05475868 | -0.06555144 | 0.2002345 |\n",
       "| SkinThickness |  0.05475868 | 1.00000000 |  0.67439293 | 0.2601534 |\n",
       "| BMI | -0.06555144 | 0.67439293 |  1.00000000 | 0.2670772 |\n",
       "| Outcome |  0.20023445 | 0.26015343 |  0.26707717 | 1.0000000 |\n",
       "\n"
      ],
      "text/plain": [
       "              Pregnancies SkinThickness BMI         Outcome  \n",
       "Pregnancies    1.00000000 0.05475868    -0.06555144 0.2002345\n",
       "SkinThickness  0.05475868 1.00000000     0.67439293 0.2601534\n",
       "BMI           -0.06555144 0.67439293     1.00000000 0.2670772\n",
       "Outcome        0.20023445 0.26015343     0.26707717 1.0000000"
      ]
     },
     "metadata": {},
     "output_type": "display_data"
    }
   ],
   "source": [
    "cor(dados_limpos[c('Pregnancies', 'SkinThickness', 'BMI', 'Outcome')], method=\"spearman\")"
   ]
  },
  {
   "cell_type": "code",
   "execution_count": 68,
   "id": "10441534",
   "metadata": {},
   "outputs": [
    {
     "name": "stderr",
     "output_type": "stream",
     "text": [
      "Warning message in cor.test.default(dados_limpos$SkinThickness, dados_limpos$BMI, :\n",
      "\"Cannot compute exact p-value with ties\"\n"
     ]
    },
    {
     "data": {
      "text/plain": [
       "\n",
       "\tSpearman's rank correlation rho\n",
       "\n",
       "data:  dados_limpos$SkinThickness and dados_limpos$BMI\n",
       "S = 3268872, p-value < 0.00000000000000022\n",
       "alternative hypothesis: true rho is not equal to 0\n",
       "sample estimates:\n",
       "      rho \n",
       "0.6743929 \n"
      ]
     },
     "metadata": {},
     "output_type": "display_data"
    }
   ],
   "source": [
    "cor.test(dados_limpos$SkinThickness, dados_limpos$BMI, method=\"spearman\", conf.level = 0.99)"
   ]
  },
  {
   "cell_type": "code",
   "execution_count": 69,
   "id": "87c4ebcb",
   "metadata": {},
   "outputs": [
    {
     "name": "stderr",
     "output_type": "stream",
     "text": [
      "`geom_smooth()` using formula 'y ~ x'\n",
      "\n"
     ]
    },
    {
     "data": {
      "image/png": "[encoded data removed]",
      "text/plain": [
       "plot without title"
      ]
     },
     "metadata": {
      "image/png": {
       "height": 300,
       "width": 600
      }
     },
     "output_type": "display_data"
    }
   ],
   "source": [
    "ggplot(data = dados_limpos, aes(x = BMI, y = SkinThickness))+\n",
    "  geom_point() + \n",
    "  geom_smooth(method = \"lm\")"
   ]
  },
  {
   "cell_type": "code",
   "execution_count": 70,
   "id": "6c06f4d5",
   "metadata": {},
   "outputs": [
    {
     "name": "stderr",
     "output_type": "stream",
     "text": [
      "Warning message:\n",
      "\"package 'corrplot' was built under R version 4.1.2\"\n",
      "corrplot 0.92 loaded\n",
      "\n"
     ]
    }
   ],
   "source": [
    "library(corrplot)"
   ]
  },
  {
   "cell_type": "code",
   "execution_count": 71,
   "id": "2048f297",
   "metadata": {},
   "outputs": [
    {
     "data": {
      "image/png": "[encoded data removed]",
      "text/plain": [
       "Plot with title \"\""
      ]
     },
     "metadata": {
      "image/png": {
       "height": 300,
       "width": 600
      }
     },
     "output_type": "display_data"
    }
   ],
   "source": [
    "matriz<-cor(dados_limpos[c('Pregnancies', 'SkinThickness', 'BMI', 'Outcome')], method=\"spearman\")\n",
    "corrplot(matriz, type=\"upper\", order=\"hclust\")"
   ]
  },
  {
   "cell_type": "code",
   "execution_count": 72,
   "id": "a2382cd7",
   "metadata": {},
   "outputs": [
    {
     "data": {
      "text/html": [
       "0.67439292769186"
      ],
      "text/latex": [
       "0.67439292769186"
      ],
      "text/markdown": [
       "0.67439292769186"
      ],
      "text/plain": [
       "[1] 0.6743929"
      ]
     },
     "metadata": {},
     "output_type": "display_data"
    }
   ],
   "source": [
    "cor(dados_limpos$SkinThickness, dados_limpos$BMI, method=\"spearman\")"
   ]
  },
  {
   "cell_type": "code",
   "execution_count": 73,
   "id": "c32413f3",
   "metadata": {},
   "outputs": [],
   "source": [
    "modelo <- lm(BMI ~ SkinThickness, dados_limpos)"
   ]
  },
  {
   "cell_type": "code",
   "execution_count": 74,
   "id": "dffbe609",
   "metadata": {},
   "outputs": [
    {
     "data": {
      "text/html": [
       "<style>\n",
       ".dl-inline {width: auto; margin:0; padding: 0}\n",
       ".dl-inline>dt, .dl-inline>dd {float: none; width: auto; display: inline-block}\n",
       ".dl-inline>dt::after {content: \":\\0020\"; padding-right: .5ex}\n",
       ".dl-inline>dt:not(:first-of-type) {padding-left: .5ex}\n",
       "</style><dl class=dl-inline><dt>(Intercept)</dt><dd>20.146862173247</dd><dt>SkinThickness</dt><dd>0.443958864602818</dd></dl>\n"
      ],
      "text/latex": [
       "\\begin{description*}\n",
       "\\item[(Intercept)] 20.146862173247\n",
       "\\item[SkinThickness] 0.443958864602818\n",
       "\\end{description*}\n"
      ],
      "text/markdown": [
       "(Intercept)\n",
       ":   20.146862173247SkinThickness\n",
       ":   0.443958864602818\n",
       "\n"
      ],
      "text/plain": [
       "  (Intercept) SkinThickness \n",
       "   20.1468622     0.4439589 "
      ]
     },
     "metadata": {},
     "output_type": "display_data"
    }
   ],
   "source": [
    "modelo$coefficients"
   ]
  },
  {
   "cell_type": "code",
   "execution_count": 75,
   "id": "dd632125",
   "metadata": {},
   "outputs": [
    {
     "data": {
      "text/plain": [
       "\n",
       "Call:\n",
       "lm(formula = BMI ~ SkinThickness, data = dados_limpos)\n",
       "\n",
       "Residuals:\n",
       "     Min       1Q   Median       3Q      Max \n",
       "-13.8854  -3.4134  -0.3332   3.3009  26.5310 \n",
       "\n",
       "Coefficients:\n",
       "              Estimate Std. Error t value            Pr(>|t|)    \n",
       "(Intercept)   20.14686    0.78353   25.71 <0.0000000000000002 ***\n",
       "SkinThickness  0.44396    0.02529   17.55 <0.0000000000000002 ***\n",
       "---\n",
       "Signif. codes:  0 '***' 0.001 '**' 0.01 '*' 0.05 '.' 0.1 ' ' 1\n",
       "\n",
       "Residual standard error: 5.259 on 390 degrees of freedom\n",
       "Multiple R-squared:  0.4414,\tAdjusted R-squared:  0.4399 \n",
       "F-statistic: 308.1 on 1 and 390 DF,  p-value: < 0.00000000000000022\n"
      ]
     },
     "metadata": {},
     "output_type": "display_data"
    }
   ],
   "source": [
    "summary(modelo)"
   ]
  },
  {
   "cell_type": "code",
   "execution_count": 76,
   "id": "0f94abba",
   "metadata": {},
   "outputs": [
    {
     "data": {
      "image/png": "[encoded data removed]",
      "text/plain": [
       "Plot with title \"\""
      ]
     },
     "metadata": {
      "image/png": {
       "height": 900,
       "width": 1500
      }
     },
     "output_type": "display_data"
    }
   ],
   "source": [
    "par(mfrow=c(2,2))\n",
    "options(repr.plot.width = 25, repr.plot.height = 15)\n",
    "plot(modelo)"
   ]
  },
  {
   "cell_type": "code",
   "execution_count": 77,
   "id": "e3739eb4",
   "metadata": {},
   "outputs": [],
   "source": [
    "par(mfrow=c(1,1))"
   ]
  },
  {
   "cell_type": "markdown",
   "id": "a4923b00",
   "metadata": {},
   "source": [
    "#### Normalidade dos resíduos"
   ]
  },
  {
   "cell_type": "code",
   "execution_count": 78,
   "id": "60a62b61",
   "metadata": {},
   "outputs": [
    {
     "data": {
      "text/plain": [
       "\n",
       "\tLilliefors (Kolmogorov-Smirnov) normality test\n",
       "\n",
       "data:  modelo$residuals\n",
       "D = 0.050028, p-value = 0.01982\n"
      ]
     },
     "metadata": {},
     "output_type": "display_data"
    }
   ],
   "source": [
    "llt <- lillie.test(modelo$residuals)\n",
    "llt"
   ]
  },
  {
   "cell_type": "code",
   "execution_count": 79,
   "id": "ea5a8fe3",
   "metadata": {},
   "outputs": [
    {
     "data": {
      "image/png": "[encoded data removed]",
      "text/plain": [
       "Plot with title \"Histogram of modelo$residuals\""
      ]
     },
     "metadata": {
      "image/png": {
       "height": 900,
       "width": 1500
      }
     },
     "output_type": "display_data"
    }
   ],
   "source": [
    "hist(modelo$residuals)"
   ]
  },
  {
   "cell_type": "code",
   "execution_count": 80,
   "id": "c8562ac6",
   "metadata": {},
   "outputs": [
    {
     "data": {
      "text/html": [
       "TRUE"
      ],
      "text/latex": [
       "TRUE"
      ],
      "text/markdown": [
       "TRUE"
      ],
      "text/plain": [
       "[1] TRUE"
      ]
     },
     "metadata": {},
     "output_type": "display_data"
    }
   ],
   "source": [
    "llt$p.value > 0.01"
   ]
  },
  {
   "cell_type": "markdown",
   "id": "cf99bcd8",
   "metadata": {},
   "source": [
    "Não normais"
   ]
  },
  {
   "cell_type": "code",
   "execution_count": 81,
   "id": "7dd0936f",
   "metadata": {},
   "outputs": [],
   "source": [
    "library(lmtest)"
   ]
  },
  {
   "cell_type": "code",
   "execution_count": 82,
   "id": "7a8b31ba",
   "metadata": {},
   "outputs": [
    {
     "data": {
      "text/plain": [
       "\n",
       "\tGoldfeld-Quandt test\n",
       "\n",
       "data:  modelo\n",
       "GQ = 1.751, df1 = 194, df2 = 194, p-value = 0.00005411\n",
       "alternative hypothesis: variance increases from segment 1 to 2\n"
      ]
     },
     "metadata": {},
     "output_type": "display_data"
    }
   ],
   "source": [
    "gqtest(modelo, order.by=~SkinThickness, data=dados_limpos)"
   ]
  },
  {
   "cell_type": "code",
   "execution_count": 83,
   "id": "bad58e62",
   "metadata": {},
   "outputs": [],
   "source": [
    "dados_limpos$predicted <- predict(modelo)\n",
    "dados_limpos$residuals <- residuals(modelo)"
   ]
  },
  {
   "cell_type": "code",
   "execution_count": 84,
   "id": "cc8b4a8f",
   "metadata": {},
   "outputs": [
    {
     "name": "stderr",
     "output_type": "stream",
     "text": [
      "`geom_smooth()` using formula 'y ~ x'\n",
      "\n"
     ]
    },
    {
     "data": {
      "image/png": "[encoded data removed]",
      "text/plain": [
       "plot without title"
      ]
     },
     "metadata": {
      "image/png": {
       "height": 420,
       "width": 720
      }
     },
     "output_type": "display_data"
    }
   ],
   "source": [
    "options(repr.plot.width = 12, repr.plot.height = 7)\n",
    "ggplot(dados_limpos, aes(x = SkinThickness, y=BMI))+\n",
    "geom_point(aes(y=predicted), shape=1)+\n",
    "geom_smooth(method=\"lm\", se=FALSE, color=\"lightgrey\")+\n",
    "geom_segment(aes(xend=SkinThickness, yend=predicted), alpha = 0.2)+\n",
    "geom_point(aes(color = abs(residuals), size=abs(residuals)))+\n",
    "scale_colour_continuous(low=\"black\", high=\"red\")+\n",
    "guides(color=\"none\", size=\"none\")+\n",
    "theme_classic()"
   ]
  },
  {
   "cell_type": "code",
   "execution_count": 85,
   "id": "4777e391",
   "metadata": {},
   "outputs": [
    {
     "data": {
      "text/plain": [
       "\n",
       "Call:\n",
       "lm(formula = BMI ~ SkinThickness + Glucose, data = dados_limpos)\n",
       "\n",
       "Residuals:\n",
       "    Min      1Q  Median      3Q     Max \n",
       "-13.426  -3.471  -0.324   3.194  26.595 \n",
       "\n",
       "Coefficients:\n",
       "               Estimate Std. Error t value            Pr(>|t|)    \n",
       "(Intercept)   18.208473   1.209930  15.049 <0.0000000000000002 ***\n",
       "SkinThickness  0.433249   0.025695  16.861 <0.0000000000000002 ***\n",
       "Glucose        0.018353   0.008756   2.096              0.0367 *  \n",
       "---\n",
       "Signif. codes:  0 '***' 0.001 '**' 0.01 '*' 0.05 '.' 0.1 ' ' 1\n",
       "\n",
       "Residual standard error: 5.237 on 389 degrees of freedom\n",
       "Multiple R-squared:  0.4476,\tAdjusted R-squared:  0.4448 \n",
       "F-statistic: 157.6 on 2 and 389 DF,  p-value: < 0.00000000000000022\n"
      ]
     },
     "metadata": {},
     "output_type": "display_data"
    }
   ],
   "source": [
    "modelo_multi <- lm(BMI ~ SkinThickness + Glucose, dados_limpos)\n",
    "summary(modelo_multi)"
   ]
  },
  {
   "cell_type": "code",
   "execution_count": 86,
   "id": "8044f725",
   "metadata": {},
   "outputs": [
    {
     "data": {
      "text/plain": [
       "\n",
       "\tLilliefors (Kolmogorov-Smirnov) normality test\n",
       "\n",
       "data:  modelo_multi$residuals\n",
       "D = 0.050473, p-value = 0.018\n"
      ]
     },
     "metadata": {},
     "output_type": "display_data"
    }
   ],
   "source": [
    "llt <- lillie.test(modelo_multi$residuals)\n",
    "llt"
   ]
  },
  {
   "cell_type": "code",
   "execution_count": 87,
   "id": "2ce2ddf6",
   "metadata": {},
   "outputs": [
    {
     "data": {
      "text/plain": [
       "\n",
       "\tGoldfeld-Quandt test\n",
       "\n",
       "data:  modelo_multi\n",
       "GQ = 1.8288, df1 = 193, df2 = 193, p-value = 0.00001616\n",
       "alternative hypothesis: variance increases from segment 1 to 2\n"
      ]
     },
     "metadata": {},
     "output_type": "display_data"
    }
   ],
   "source": [
    "gqtest(modelo_multi, order.by=~SkinThickness, data=dados_limpos)"
   ]
  },
  {
   "cell_type": "code",
   "execution_count": 88,
   "id": "24982e11",
   "metadata": {},
   "outputs": [
    {
     "data": {
      "text/plain": [
       "\n",
       "Call:\n",
       "lm(formula = log10(BMI) ~ log10(SkinThickness), data = dados_limpos)\n",
       "\n",
       "Residuals:\n",
       "      Min        1Q    Median        3Q       Max \n",
       "-0.210899 -0.044272  0.000699  0.046179  0.235471 \n",
       "\n",
       "Coefficients:\n",
       "                     Estimate Std. Error t value            Pr(>|t|)    \n",
       "(Intercept)           1.00432    0.02856   35.16 <0.0000000000000002 ***\n",
       "log10(SkinThickness)  0.35299    0.01979   17.83 <0.0000000000000002 ***\n",
       "---\n",
       "Signif. codes:  0 '***' 0.001 '**' 0.01 '*' 0.05 '.' 0.1 ' ' 1\n",
       "\n",
       "Residual standard error: 0.06829 on 390 degrees of freedom\n",
       "Multiple R-squared:  0.4492,\tAdjusted R-squared:  0.4478 \n",
       "F-statistic:   318 on 1 and 390 DF,  p-value: < 0.00000000000000022\n"
      ]
     },
     "metadata": {},
     "output_type": "display_data"
    }
   ],
   "source": [
    "modelo_log <- lm(log10(BMI) ~ log10(SkinThickness), dados_limpos)\n",
    "summary(modelo_log)"
   ]
  },
  {
   "cell_type": "code",
   "execution_count": 89,
   "id": "15539ed3",
   "metadata": {},
   "outputs": [
    {
     "data": {
      "text/plain": [
       "\n",
       "\tLilliefors (Kolmogorov-Smirnov) normality test\n",
       "\n",
       "data:  modelo_log$residuals\n",
       "D = 0.029563, p-value = 0.5548\n"
      ]
     },
     "metadata": {},
     "output_type": "display_data"
    }
   ],
   "source": [
    "llt2 <- lillie.test(modelo_log$residuals)\n",
    "llt2"
   ]
  },
  {
   "cell_type": "code",
   "execution_count": 90,
   "id": "120da835",
   "metadata": {},
   "outputs": [
    {
     "data": {
      "text/html": [
       "TRUE"
      ],
      "text/latex": [
       "TRUE"
      ],
      "text/markdown": [
       "TRUE"
      ],
      "text/plain": [
       "[1] TRUE"
      ]
     },
     "metadata": {},
     "output_type": "display_data"
    }
   ],
   "source": [
    "llt2$p.value > 0.01"
   ]
  },
  {
   "cell_type": "markdown",
   "id": "1f411b69",
   "metadata": {},
   "source": [
    "Normais"
   ]
  },
  {
   "cell_type": "code",
   "execution_count": 91,
   "id": "4e27b58c",
   "metadata": {},
   "outputs": [
    {
     "data": {
      "image/png": "[encoded data removed]",
      "text/plain": [
       "Plot with title \"Histogram of modelo_log$residuals\""
      ]
     },
     "metadata": {
      "image/png": {
       "height": 420,
       "width": 720
      }
     },
     "output_type": "display_data"
    }
   ],
   "source": [
    "hist(modelo_log$residuals)"
   ]
  },
  {
   "cell_type": "code",
   "execution_count": 92,
   "id": "5fd98e81",
   "metadata": {},
   "outputs": [
    {
     "data": {
      "text/plain": [
       "\n",
       "\tGoldfeld-Quandt test\n",
       "\n",
       "data:  modelo_log\n",
       "GQ = 1.0203, df1 = 194, df2 = 194, p-value = 0.4445\n",
       "alternative hypothesis: variance increases from segment 1 to 2\n"
      ]
     },
     "metadata": {},
     "output_type": "display_data"
    }
   ],
   "source": [
    "gqtest(modelo_log, order.by=~SkinThickness, data=dados_limpos)"
   ]
  }
 ],
 "metadata": {
  "kernelspec": {
   "display_name": "R",
   "language": "R",
   "name": "ir"
  },
  "language_info": {
   "codemirror_mode": "r",
   "file_extension": ".r",
   "mimetype": "text/x-r-source",
   "name": "R",
   "pygments_lexer": "r",
   "version": "4.1.1"
  }
 },
 "nbformat": 4,
 "nbformat_minor": 5
}
